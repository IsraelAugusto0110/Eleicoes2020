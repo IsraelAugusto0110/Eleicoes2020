{
 "cells": [
  {
   "cell_type": "markdown",
   "metadata": {},
   "source": [
    "# Eleições 2020\n",
    "## Analise de dados dos candidatos a prefeito e vereador"
   ]
  },
  {
   "cell_type": "markdown",
   "metadata": {},
   "source": [
    "Este é um trabalho de análise de dados das eleições municipais de 2020, feito por aluno(s) da faculdade de Tecnologia de São José dos Campos, Fatec Jessem Vidal, do curso de Análise e Desenvolvimento de Sistemas para a disciplina de Estrutura de Dados do Profº Fernando Masanori.\n",
    "A fonte dos dados pode ser acessada em http://www.tse.jus.br/eleicoes/estatisticas/repositorio-de-dados-eleitorais-1\n",
    "O conteúdo desde notebook serve apenas para aprendizado e não deve ser utilizado para fins de propaganda politico-partidaria de qualquer natureza. "
   ]
  },
  {
   "cell_type": "code",
   "execution_count": 1,
   "metadata": {},
   "outputs": [],
   "source": [
    "import pandas as pd\n",
    "import numpy as np\n",
    "import matplotlib.pyplot as plt\n",
    "%matplotlib inline"
   ]
  },
  {
   "cell_type": "code",
   "execution_count": 2,
   "metadata": {},
   "outputs": [
    {
     "data": {
      "text/plain": [
       "(93692, 13)"
      ]
     },
     "execution_count": 2,
     "metadata": {},
     "output_type": "execute_result"
    }
   ],
   "source": [
    "## importando os dados\n",
    "file = r'consulta_cand_2020_SP.csv'\n",
    "lst = ['DS_ELEICAO', 'SG_UF', 'NM_UE', 'DS_CARGO', 'DS_SITUACAO_CANDIDATURA', 'DS_DETALHE_SITUACAO_CAND', \n",
    "       'SG_PARTIDO', 'SG_UF_NASCIMENTO', 'NM_MUNICIPIO_NASCIMENTO', 'DS_GENERO', 'DS_GRAU_INSTRUCAO',\n",
    "       'DS_COR_RACA', 'DS_OCUPACAO']\n",
    "df = pd.read_csv(file, delimiter=';',usecols= lst, encoding='Latin 1')\n",
    "df.shape"
   ]
  },
  {
   "cell_type": "code",
   "execution_count": 3,
   "metadata": {
    "scrolled": false
   },
   "outputs": [
    {
     "name": "stdout",
     "output_type": "stream",
     "text": [
      "<class 'pandas.core.frame.DataFrame'>\n",
      "RangeIndex: 93692 entries, 0 to 93691\n",
      "Data columns (total 13 columns):\n",
      "DS_ELEICAO                  93692 non-null object\n",
      "SG_UF                       93692 non-null object\n",
      "NM_UE                       93692 non-null object\n",
      "DS_CARGO                    93692 non-null object\n",
      "DS_SITUACAO_CANDIDATURA     93692 non-null object\n",
      "DS_DETALHE_SITUACAO_CAND    93692 non-null object\n",
      "SG_PARTIDO                  93692 non-null object\n",
      "SG_UF_NASCIMENTO            93692 non-null object\n",
      "NM_MUNICIPIO_NASCIMENTO     93692 non-null object\n",
      "DS_GENERO                   93692 non-null object\n",
      "DS_GRAU_INSTRUCAO           93692 non-null object\n",
      "DS_COR_RACA                 93692 non-null object\n",
      "DS_OCUPACAO                 93692 non-null object\n",
      "dtypes: object(13)\n",
      "memory usage: 9.3+ MB\n"
     ]
    }
   ],
   "source": [
    "df.info()"
   ]
  },
  {
   "cell_type": "code",
   "execution_count": 4,
   "metadata": {
    "scrolled": true
   },
   "outputs": [
    {
     "data": {
      "text/html": [
       "<div>\n",
       "<style scoped>\n",
       "    .dataframe tbody tr th:only-of-type {\n",
       "        vertical-align: middle;\n",
       "    }\n",
       "\n",
       "    .dataframe tbody tr th {\n",
       "        vertical-align: top;\n",
       "    }\n",
       "\n",
       "    .dataframe thead th {\n",
       "        text-align: right;\n",
       "    }\n",
       "</style>\n",
       "<table border=\"1\" class=\"dataframe\">\n",
       "  <thead>\n",
       "    <tr style=\"text-align: right;\">\n",
       "      <th></th>\n",
       "      <th>DS_ELEICAO</th>\n",
       "      <th>SG_UF</th>\n",
       "      <th>NM_UE</th>\n",
       "      <th>DS_CARGO</th>\n",
       "      <th>DS_SITUACAO_CANDIDATURA</th>\n",
       "      <th>DS_DETALHE_SITUACAO_CAND</th>\n",
       "      <th>SG_PARTIDO</th>\n",
       "      <th>SG_UF_NASCIMENTO</th>\n",
       "      <th>NM_MUNICIPIO_NASCIMENTO</th>\n",
       "      <th>DS_GENERO</th>\n",
       "      <th>DS_GRAU_INSTRUCAO</th>\n",
       "      <th>DS_COR_RACA</th>\n",
       "      <th>DS_OCUPACAO</th>\n",
       "    </tr>\n",
       "  </thead>\n",
       "  <tbody>\n",
       "    <tr>\n",
       "      <th>71810</th>\n",
       "      <td>Eleições Municipais 2020</td>\n",
       "      <td>SP</td>\n",
       "      <td>SÃO JOSÉ DO RIO PRETO</td>\n",
       "      <td>VEREADOR</td>\n",
       "      <td>APTO</td>\n",
       "      <td>DEFERIDO</td>\n",
       "      <td>PSL</td>\n",
       "      <td>SE</td>\n",
       "      <td>NOSSA SENHORA DA GLÓRIA</td>\n",
       "      <td>FEMININO</td>\n",
       "      <td>SUPERIOR INCOMPLETO</td>\n",
       "      <td>BRANCA</td>\n",
       "      <td>CABELEIREIRO E BARBEIRO</td>\n",
       "    </tr>\n",
       "    <tr>\n",
       "      <th>40941</th>\n",
       "      <td>Eleições Municipais 2020</td>\n",
       "      <td>SP</td>\n",
       "      <td>SANTO ANTÔNIO DO PINHAL</td>\n",
       "      <td>VEREADOR</td>\n",
       "      <td>APTO</td>\n",
       "      <td>DEFERIDO</td>\n",
       "      <td>PSDB</td>\n",
       "      <td>SP</td>\n",
       "      <td>SÃO BENTO DO SAPUCAÍ</td>\n",
       "      <td>MASCULINO</td>\n",
       "      <td>ENSINO MÉDIO COMPLETO</td>\n",
       "      <td>BRANCA</td>\n",
       "      <td>VEREADOR</td>\n",
       "    </tr>\n",
       "    <tr>\n",
       "      <th>17046</th>\n",
       "      <td>Eleições Municipais 2020</td>\n",
       "      <td>SP</td>\n",
       "      <td>CATANDUVA</td>\n",
       "      <td>VEREADOR</td>\n",
       "      <td>APTO</td>\n",
       "      <td>DEFERIDO</td>\n",
       "      <td>PSDB</td>\n",
       "      <td>SP</td>\n",
       "      <td>CATANDUVA</td>\n",
       "      <td>MASCULINO</td>\n",
       "      <td>ENSINO MÉDIO COMPLETO</td>\n",
       "      <td>PRETA</td>\n",
       "      <td>CABELEIREIRO E BARBEIRO</td>\n",
       "    </tr>\n",
       "    <tr>\n",
       "      <th>75649</th>\n",
       "      <td>Eleições Municipais 2020</td>\n",
       "      <td>SP</td>\n",
       "      <td>SANTA LÚCIA</td>\n",
       "      <td>VEREADOR</td>\n",
       "      <td>APTO</td>\n",
       "      <td>DEFERIDO</td>\n",
       "      <td>PSDB</td>\n",
       "      <td>MG</td>\n",
       "      <td>PASSOS</td>\n",
       "      <td>FEMININO</td>\n",
       "      <td>ENSINO MÉDIO COMPLETO</td>\n",
       "      <td>PRETA</td>\n",
       "      <td>OUTROS</td>\n",
       "    </tr>\n",
       "    <tr>\n",
       "      <th>81744</th>\n",
       "      <td>Eleições Municipais 2020</td>\n",
       "      <td>SP</td>\n",
       "      <td>RIBEIRÃO PIRES</td>\n",
       "      <td>VEREADOR</td>\n",
       "      <td>APTO</td>\n",
       "      <td>DEFERIDO</td>\n",
       "      <td>PODE</td>\n",
       "      <td>SP</td>\n",
       "      <td>RIBEIRÃO PIRES</td>\n",
       "      <td>FEMININO</td>\n",
       "      <td>SUPERIOR INCOMPLETO</td>\n",
       "      <td>BRANCA</td>\n",
       "      <td>OUTROS</td>\n",
       "    </tr>\n",
       "  </tbody>\n",
       "</table>\n",
       "</div>"
      ],
      "text/plain": [
       "                     DS_ELEICAO SG_UF                    NM_UE  DS_CARGO  \\\n",
       "71810  Eleições Municipais 2020    SP    SÃO JOSÉ DO RIO PRETO  VEREADOR   \n",
       "40941  Eleições Municipais 2020    SP  SANTO ANTÔNIO DO PINHAL  VEREADOR   \n",
       "17046  Eleições Municipais 2020    SP                CATANDUVA  VEREADOR   \n",
       "75649  Eleições Municipais 2020    SP              SANTA LÚCIA  VEREADOR   \n",
       "81744  Eleições Municipais 2020    SP           RIBEIRÃO PIRES  VEREADOR   \n",
       "\n",
       "      DS_SITUACAO_CANDIDATURA DS_DETALHE_SITUACAO_CAND SG_PARTIDO  \\\n",
       "71810                    APTO                 DEFERIDO        PSL   \n",
       "40941                    APTO                 DEFERIDO       PSDB   \n",
       "17046                    APTO                 DEFERIDO       PSDB   \n",
       "75649                    APTO                 DEFERIDO       PSDB   \n",
       "81744                    APTO                 DEFERIDO       PODE   \n",
       "\n",
       "      SG_UF_NASCIMENTO  NM_MUNICIPIO_NASCIMENTO  DS_GENERO  \\\n",
       "71810               SE  NOSSA SENHORA DA GLÓRIA   FEMININO   \n",
       "40941               SP     SÃO BENTO DO SAPUCAÍ  MASCULINO   \n",
       "17046               SP                CATANDUVA  MASCULINO   \n",
       "75649               MG                   PASSOS   FEMININO   \n",
       "81744               SP           RIBEIRÃO PIRES   FEMININO   \n",
       "\n",
       "           DS_GRAU_INSTRUCAO DS_COR_RACA              DS_OCUPACAO  \n",
       "71810    SUPERIOR INCOMPLETO      BRANCA  CABELEIREIRO E BARBEIRO  \n",
       "40941  ENSINO MÉDIO COMPLETO      BRANCA                 VEREADOR  \n",
       "17046  ENSINO MÉDIO COMPLETO       PRETA  CABELEIREIRO E BARBEIRO  \n",
       "75649  ENSINO MÉDIO COMPLETO       PRETA                   OUTROS  \n",
       "81744    SUPERIOR INCOMPLETO      BRANCA                   OUTROS  "
      ]
     },
     "execution_count": 4,
     "metadata": {},
     "output_type": "execute_result"
    }
   ],
   "source": [
    "df.sample(5)"
   ]
  },
  {
   "cell_type": "markdown",
   "metadata": {},
   "source": [
    "Primeiro farei uma analise apenas dos candidatos do municipio de São José dos Campos.\n",
    "O arquivo original tem 63 colunas, portanto usarei apenas aquelas que considerar relevantes"
   ]
  },
  {
   "cell_type": "code",
   "execution_count": 5,
   "metadata": {},
   "outputs": [
    {
     "data": {
      "text/plain": [
       "(621, 13)"
      ]
     },
     "execution_count": 5,
     "metadata": {},
     "output_type": "execute_result"
    }
   ],
   "source": [
    "df_sjc = df.query('NM_UE == \"SÃO JOSÉ DOS CAMPOS\"')\n",
    "df_sjc.shape"
   ]
  },
  {
   "cell_type": "code",
   "execution_count": 6,
   "metadata": {},
   "outputs": [
    {
     "data": {
      "text/html": [
       "<div>\n",
       "<style scoped>\n",
       "    .dataframe tbody tr th:only-of-type {\n",
       "        vertical-align: middle;\n",
       "    }\n",
       "\n",
       "    .dataframe tbody tr th {\n",
       "        vertical-align: top;\n",
       "    }\n",
       "\n",
       "    .dataframe thead th {\n",
       "        text-align: right;\n",
       "    }\n",
       "</style>\n",
       "<table border=\"1\" class=\"dataframe\">\n",
       "  <thead>\n",
       "    <tr style=\"text-align: right;\">\n",
       "      <th></th>\n",
       "      <th>DS_ELEICAO</th>\n",
       "      <th>SG_UF</th>\n",
       "      <th>NM_UE</th>\n",
       "      <th>DS_CARGO</th>\n",
       "      <th>DS_SITUACAO_CANDIDATURA</th>\n",
       "      <th>DS_DETALHE_SITUACAO_CAND</th>\n",
       "      <th>SG_PARTIDO</th>\n",
       "      <th>SG_UF_NASCIMENTO</th>\n",
       "      <th>NM_MUNICIPIO_NASCIMENTO</th>\n",
       "      <th>DS_GENERO</th>\n",
       "      <th>DS_GRAU_INSTRUCAO</th>\n",
       "      <th>DS_COR_RACA</th>\n",
       "      <th>DS_OCUPACAO</th>\n",
       "    </tr>\n",
       "  </thead>\n",
       "  <tbody>\n",
       "    <tr>\n",
       "      <th>54773</th>\n",
       "      <td>Eleições Municipais 2020</td>\n",
       "      <td>SP</td>\n",
       "      <td>SÃO JOSÉ DOS CAMPOS</td>\n",
       "      <td>VEREADOR</td>\n",
       "      <td>APTO</td>\n",
       "      <td>DEFERIDO</td>\n",
       "      <td>PSD</td>\n",
       "      <td>SP</td>\n",
       "      <td>SÃO JOSÉ DOS CAMPOS</td>\n",
       "      <td>FEMININO</td>\n",
       "      <td>SUPERIOR COMPLETO</td>\n",
       "      <td>BRANCA</td>\n",
       "      <td>PROFESSOR DE ENSINO MÉDIO</td>\n",
       "    </tr>\n",
       "    <tr>\n",
       "      <th>77889</th>\n",
       "      <td>Eleições Municipais 2020</td>\n",
       "      <td>SP</td>\n",
       "      <td>SÃO JOSÉ DOS CAMPOS</td>\n",
       "      <td>VEREADOR</td>\n",
       "      <td>APTO</td>\n",
       "      <td>DEFERIDO</td>\n",
       "      <td>PATRIOTA</td>\n",
       "      <td>SP</td>\n",
       "      <td>TAUBATÉ</td>\n",
       "      <td>MASCULINO</td>\n",
       "      <td>SUPERIOR COMPLETO</td>\n",
       "      <td>BRANCA</td>\n",
       "      <td>ENGENHEIRO</td>\n",
       "    </tr>\n",
       "    <tr>\n",
       "      <th>1086</th>\n",
       "      <td>Eleições Municipais 2020</td>\n",
       "      <td>SP</td>\n",
       "      <td>SÃO JOSÉ DOS CAMPOS</td>\n",
       "      <td>VEREADOR</td>\n",
       "      <td>APTO</td>\n",
       "      <td>DEFERIDO</td>\n",
       "      <td>DEM</td>\n",
       "      <td>BA</td>\n",
       "      <td>RIO DE CONTAS</td>\n",
       "      <td>FEMININO</td>\n",
       "      <td>ENSINO MÉDIO COMPLETO</td>\n",
       "      <td>BRANCA</td>\n",
       "      <td>COMERCIANTE</td>\n",
       "    </tr>\n",
       "    <tr>\n",
       "      <th>41011</th>\n",
       "      <td>Eleições Municipais 2020</td>\n",
       "      <td>SP</td>\n",
       "      <td>SÃO JOSÉ DOS CAMPOS</td>\n",
       "      <td>VEREADOR</td>\n",
       "      <td>APTO</td>\n",
       "      <td>DEFERIDO</td>\n",
       "      <td>PATRIOTA</td>\n",
       "      <td>SP</td>\n",
       "      <td>SÃO JOSÉ DOS CAMPOS</td>\n",
       "      <td>FEMININO</td>\n",
       "      <td>ENSINO MÉDIO COMPLETO</td>\n",
       "      <td>BRANCA</td>\n",
       "      <td>DONA DE CASA</td>\n",
       "    </tr>\n",
       "    <tr>\n",
       "      <th>27945</th>\n",
       "      <td>Eleições Municipais 2020</td>\n",
       "      <td>SP</td>\n",
       "      <td>SÃO JOSÉ DOS CAMPOS</td>\n",
       "      <td>VEREADOR</td>\n",
       "      <td>APTO</td>\n",
       "      <td>DEFERIDO</td>\n",
       "      <td>SOLIDARIEDADE</td>\n",
       "      <td>SP</td>\n",
       "      <td>SÃO JOSÉ DOS CAMPOS</td>\n",
       "      <td>FEMININO</td>\n",
       "      <td>SUPERIOR INCOMPLETO</td>\n",
       "      <td>PARDA</td>\n",
       "      <td>ASSISTENTE SOCIAL</td>\n",
       "    </tr>\n",
       "  </tbody>\n",
       "</table>\n",
       "</div>"
      ],
      "text/plain": [
       "                     DS_ELEICAO SG_UF                NM_UE  DS_CARGO  \\\n",
       "54773  Eleições Municipais 2020    SP  SÃO JOSÉ DOS CAMPOS  VEREADOR   \n",
       "77889  Eleições Municipais 2020    SP  SÃO JOSÉ DOS CAMPOS  VEREADOR   \n",
       "1086   Eleições Municipais 2020    SP  SÃO JOSÉ DOS CAMPOS  VEREADOR   \n",
       "41011  Eleições Municipais 2020    SP  SÃO JOSÉ DOS CAMPOS  VEREADOR   \n",
       "27945  Eleições Municipais 2020    SP  SÃO JOSÉ DOS CAMPOS  VEREADOR   \n",
       "\n",
       "      DS_SITUACAO_CANDIDATURA DS_DETALHE_SITUACAO_CAND     SG_PARTIDO  \\\n",
       "54773                    APTO                 DEFERIDO            PSD   \n",
       "77889                    APTO                 DEFERIDO       PATRIOTA   \n",
       "1086                     APTO                 DEFERIDO            DEM   \n",
       "41011                    APTO                 DEFERIDO       PATRIOTA   \n",
       "27945                    APTO                 DEFERIDO  SOLIDARIEDADE   \n",
       "\n",
       "      SG_UF_NASCIMENTO NM_MUNICIPIO_NASCIMENTO  DS_GENERO  \\\n",
       "54773               SP     SÃO JOSÉ DOS CAMPOS   FEMININO   \n",
       "77889               SP                 TAUBATÉ  MASCULINO   \n",
       "1086                BA           RIO DE CONTAS   FEMININO   \n",
       "41011               SP     SÃO JOSÉ DOS CAMPOS   FEMININO   \n",
       "27945               SP     SÃO JOSÉ DOS CAMPOS   FEMININO   \n",
       "\n",
       "           DS_GRAU_INSTRUCAO DS_COR_RACA                DS_OCUPACAO  \n",
       "54773      SUPERIOR COMPLETO      BRANCA  PROFESSOR DE ENSINO MÉDIO  \n",
       "77889      SUPERIOR COMPLETO      BRANCA                 ENGENHEIRO  \n",
       "1086   ENSINO MÉDIO COMPLETO      BRANCA                COMERCIANTE  \n",
       "41011  ENSINO MÉDIO COMPLETO      BRANCA               DONA DE CASA  \n",
       "27945    SUPERIOR INCOMPLETO       PARDA          ASSISTENTE SOCIAL  "
      ]
     },
     "execution_count": 6,
     "metadata": {},
     "output_type": "execute_result"
    }
   ],
   "source": [
    "df_sjc.sample(5)"
   ]
  },
  {
   "cell_type": "code",
   "execution_count": 7,
   "metadata": {},
   "outputs": [
    {
     "data": {
      "text/html": [
       "<div>\n",
       "<style scoped>\n",
       "    .dataframe tbody tr th:only-of-type {\n",
       "        vertical-align: middle;\n",
       "    }\n",
       "\n",
       "    .dataframe tbody tr th {\n",
       "        vertical-align: top;\n",
       "    }\n",
       "\n",
       "    .dataframe thead th {\n",
       "        text-align: right;\n",
       "    }\n",
       "</style>\n",
       "<table border=\"1\" class=\"dataframe\">\n",
       "  <thead>\n",
       "    <tr style=\"text-align: right;\">\n",
       "      <th></th>\n",
       "      <th>DS_ELEICAO</th>\n",
       "      <th>SG_UF</th>\n",
       "      <th>NM_UE</th>\n",
       "      <th>DS_CARGO</th>\n",
       "      <th>DS_SITUACAO_CANDIDATURA</th>\n",
       "      <th>DS_DETALHE_SITUACAO_CAND</th>\n",
       "      <th>SG_PARTIDO</th>\n",
       "      <th>SG_UF_NASCIMENTO</th>\n",
       "      <th>NM_MUNICIPIO_NASCIMENTO</th>\n",
       "      <th>DS_GENERO</th>\n",
       "      <th>DS_GRAU_INSTRUCAO</th>\n",
       "      <th>DS_COR_RACA</th>\n",
       "      <th>DS_OCUPACAO</th>\n",
       "    </tr>\n",
       "  </thead>\n",
       "  <tbody>\n",
       "    <tr>\n",
       "      <th>593</th>\n",
       "      <td>Eleições Municipais 2020</td>\n",
       "      <td>SP</td>\n",
       "      <td>SÃO JOSÉ DOS CAMPOS</td>\n",
       "      <td>PREFEITO</td>\n",
       "      <td>APTO</td>\n",
       "      <td>DEFERIDO</td>\n",
       "      <td>PSL</td>\n",
       "      <td>SP</td>\n",
       "      <td>APARECIDA</td>\n",
       "      <td>MASCULINO</td>\n",
       "      <td>SUPERIOR COMPLETO</td>\n",
       "      <td>BRANCA</td>\n",
       "      <td>ADMINISTRADOR</td>\n",
       "    </tr>\n",
       "    <tr>\n",
       "      <th>22681</th>\n",
       "      <td>Eleições Municipais 2020</td>\n",
       "      <td>SP</td>\n",
       "      <td>SÃO JOSÉ DOS CAMPOS</td>\n",
       "      <td>PREFEITO</td>\n",
       "      <td>APTO</td>\n",
       "      <td>DEFERIDO</td>\n",
       "      <td>PL</td>\n",
       "      <td>SP</td>\n",
       "      <td>SÃO PAULO</td>\n",
       "      <td>FEMININO</td>\n",
       "      <td>SUPERIOR COMPLETO</td>\n",
       "      <td>BRANCA</td>\n",
       "      <td>POLICIAL MILITAR</td>\n",
       "    </tr>\n",
       "    <tr>\n",
       "      <th>28479</th>\n",
       "      <td>Eleições Municipais 2020</td>\n",
       "      <td>SP</td>\n",
       "      <td>SÃO JOSÉ DOS CAMPOS</td>\n",
       "      <td>PREFEITO</td>\n",
       "      <td>APTO</td>\n",
       "      <td>DEFERIDO</td>\n",
       "      <td>PSB</td>\n",
       "      <td>SP</td>\n",
       "      <td>SÃO PAULO</td>\n",
       "      <td>MASCULINO</td>\n",
       "      <td>SUPERIOR COMPLETO</td>\n",
       "      <td>BRANCA</td>\n",
       "      <td>MÉDICO</td>\n",
       "    </tr>\n",
       "    <tr>\n",
       "      <th>32239</th>\n",
       "      <td>Eleições Municipais 2020</td>\n",
       "      <td>SP</td>\n",
       "      <td>SÃO JOSÉ DOS CAMPOS</td>\n",
       "      <td>PREFEITO</td>\n",
       "      <td>APTO</td>\n",
       "      <td>DEFERIDO</td>\n",
       "      <td>PC do B</td>\n",
       "      <td>SP</td>\n",
       "      <td>CRUZEIRO</td>\n",
       "      <td>MASCULINO</td>\n",
       "      <td>SUPERIOR COMPLETO</td>\n",
       "      <td>PRETA</td>\n",
       "      <td>APOSENTADO (EXCETO SERVIDOR PÚBLICO)</td>\n",
       "    </tr>\n",
       "    <tr>\n",
       "      <th>33548</th>\n",
       "      <td>Eleições Municipais 2020</td>\n",
       "      <td>SP</td>\n",
       "      <td>SÃO JOSÉ DOS CAMPOS</td>\n",
       "      <td>PREFEITO</td>\n",
       "      <td>APTO</td>\n",
       "      <td>DEFERIDO</td>\n",
       "      <td>PTC</td>\n",
       "      <td>SP</td>\n",
       "      <td>SERTÃOZINHO</td>\n",
       "      <td>MASCULINO</td>\n",
       "      <td>SUPERIOR COMPLETO</td>\n",
       "      <td>BRANCA</td>\n",
       "      <td>ADMINISTRADOR</td>\n",
       "    </tr>\n",
       "    <tr>\n",
       "      <th>45254</th>\n",
       "      <td>Eleições Municipais 2020</td>\n",
       "      <td>SP</td>\n",
       "      <td>SÃO JOSÉ DOS CAMPOS</td>\n",
       "      <td>PREFEITO</td>\n",
       "      <td>APTO</td>\n",
       "      <td>DEFERIDO</td>\n",
       "      <td>PSOL</td>\n",
       "      <td>SP</td>\n",
       "      <td>SÃO PAULO</td>\n",
       "      <td>FEMININO</td>\n",
       "      <td>ENSINO MÉDIO COMPLETO</td>\n",
       "      <td>BRANCA</td>\n",
       "      <td>ELETRICISTA E ASSEMELHADOS</td>\n",
       "    </tr>\n",
       "    <tr>\n",
       "      <th>52462</th>\n",
       "      <td>Eleições Municipais 2020</td>\n",
       "      <td>SP</td>\n",
       "      <td>SÃO JOSÉ DOS CAMPOS</td>\n",
       "      <td>PREFEITO</td>\n",
       "      <td>APTO</td>\n",
       "      <td>DEFERIDO</td>\n",
       "      <td>NOVO</td>\n",
       "      <td>RO</td>\n",
       "      <td>PORTO VELHO</td>\n",
       "      <td>MASCULINO</td>\n",
       "      <td>SUPERIOR COMPLETO</td>\n",
       "      <td>PARDA</td>\n",
       "      <td>PROFESSOR DE ENSINO SUPERIOR</td>\n",
       "    </tr>\n",
       "    <tr>\n",
       "      <th>61593</th>\n",
       "      <td>Eleições Municipais 2020</td>\n",
       "      <td>SP</td>\n",
       "      <td>SÃO JOSÉ DOS CAMPOS</td>\n",
       "      <td>PREFEITO</td>\n",
       "      <td>APTO</td>\n",
       "      <td>DEFERIDO</td>\n",
       "      <td>PSD</td>\n",
       "      <td>SP</td>\n",
       "      <td>TAUBATÉ</td>\n",
       "      <td>FEMININO</td>\n",
       "      <td>SUPERIOR COMPLETO</td>\n",
       "      <td>BRANCA</td>\n",
       "      <td>ADVOGADO</td>\n",
       "    </tr>\n",
       "    <tr>\n",
       "      <th>70808</th>\n",
       "      <td>Eleições Municipais 2020</td>\n",
       "      <td>SP</td>\n",
       "      <td>SÃO JOSÉ DOS CAMPOS</td>\n",
       "      <td>PREFEITO</td>\n",
       "      <td>APTO</td>\n",
       "      <td>DEFERIDO</td>\n",
       "      <td>PSDB</td>\n",
       "      <td>SP</td>\n",
       "      <td>SÃO PAULO</td>\n",
       "      <td>MASCULINO</td>\n",
       "      <td>SUPERIOR COMPLETO</td>\n",
       "      <td>BRANCA</td>\n",
       "      <td>PREFEITO</td>\n",
       "    </tr>\n",
       "    <tr>\n",
       "      <th>85011</th>\n",
       "      <td>Eleições Municipais 2020</td>\n",
       "      <td>SP</td>\n",
       "      <td>SÃO JOSÉ DOS CAMPOS</td>\n",
       "      <td>PREFEITO</td>\n",
       "      <td>APTO</td>\n",
       "      <td>DEFERIDO</td>\n",
       "      <td>PT</td>\n",
       "      <td>SP</td>\n",
       "      <td>SÃO JOSÉ DOS CAMPOS</td>\n",
       "      <td>MASCULINO</td>\n",
       "      <td>SUPERIOR COMPLETO</td>\n",
       "      <td>BRANCA</td>\n",
       "      <td>VEREADOR</td>\n",
       "    </tr>\n",
       "    <tr>\n",
       "      <th>85469</th>\n",
       "      <td>Eleições Municipais 2020</td>\n",
       "      <td>SP</td>\n",
       "      <td>SÃO JOSÉ DOS CAMPOS</td>\n",
       "      <td>PREFEITO</td>\n",
       "      <td>APTO</td>\n",
       "      <td>DEFERIDO</td>\n",
       "      <td>PSTU</td>\n",
       "      <td>MG</td>\n",
       "      <td>TRÊS PONTAS</td>\n",
       "      <td>FEMININO</td>\n",
       "      <td>ENSINO MÉDIO COMPLETO</td>\n",
       "      <td>PRETA</td>\n",
       "      <td>AGENTE POSTAL</td>\n",
       "    </tr>\n",
       "  </tbody>\n",
       "</table>\n",
       "</div>"
      ],
      "text/plain": [
       "                     DS_ELEICAO SG_UF                NM_UE  DS_CARGO  \\\n",
       "593    Eleições Municipais 2020    SP  SÃO JOSÉ DOS CAMPOS  PREFEITO   \n",
       "22681  Eleições Municipais 2020    SP  SÃO JOSÉ DOS CAMPOS  PREFEITO   \n",
       "28479  Eleições Municipais 2020    SP  SÃO JOSÉ DOS CAMPOS  PREFEITO   \n",
       "32239  Eleições Municipais 2020    SP  SÃO JOSÉ DOS CAMPOS  PREFEITO   \n",
       "33548  Eleições Municipais 2020    SP  SÃO JOSÉ DOS CAMPOS  PREFEITO   \n",
       "45254  Eleições Municipais 2020    SP  SÃO JOSÉ DOS CAMPOS  PREFEITO   \n",
       "52462  Eleições Municipais 2020    SP  SÃO JOSÉ DOS CAMPOS  PREFEITO   \n",
       "61593  Eleições Municipais 2020    SP  SÃO JOSÉ DOS CAMPOS  PREFEITO   \n",
       "70808  Eleições Municipais 2020    SP  SÃO JOSÉ DOS CAMPOS  PREFEITO   \n",
       "85011  Eleições Municipais 2020    SP  SÃO JOSÉ DOS CAMPOS  PREFEITO   \n",
       "85469  Eleições Municipais 2020    SP  SÃO JOSÉ DOS CAMPOS  PREFEITO   \n",
       "\n",
       "      DS_SITUACAO_CANDIDATURA DS_DETALHE_SITUACAO_CAND SG_PARTIDO  \\\n",
       "593                      APTO                 DEFERIDO        PSL   \n",
       "22681                    APTO                 DEFERIDO         PL   \n",
       "28479                    APTO                 DEFERIDO        PSB   \n",
       "32239                    APTO                 DEFERIDO    PC do B   \n",
       "33548                    APTO                 DEFERIDO        PTC   \n",
       "45254                    APTO                 DEFERIDO       PSOL   \n",
       "52462                    APTO                 DEFERIDO       NOVO   \n",
       "61593                    APTO                 DEFERIDO        PSD   \n",
       "70808                    APTO                 DEFERIDO       PSDB   \n",
       "85011                    APTO                 DEFERIDO         PT   \n",
       "85469                    APTO                 DEFERIDO       PSTU   \n",
       "\n",
       "      SG_UF_NASCIMENTO NM_MUNICIPIO_NASCIMENTO  DS_GENERO  \\\n",
       "593                 SP               APARECIDA  MASCULINO   \n",
       "22681               SP               SÃO PAULO   FEMININO   \n",
       "28479               SP               SÃO PAULO  MASCULINO   \n",
       "32239               SP                CRUZEIRO  MASCULINO   \n",
       "33548               SP             SERTÃOZINHO  MASCULINO   \n",
       "45254               SP               SÃO PAULO   FEMININO   \n",
       "52462               RO             PORTO VELHO  MASCULINO   \n",
       "61593               SP                 TAUBATÉ   FEMININO   \n",
       "70808               SP               SÃO PAULO  MASCULINO   \n",
       "85011               SP     SÃO JOSÉ DOS CAMPOS  MASCULINO   \n",
       "85469               MG             TRÊS PONTAS   FEMININO   \n",
       "\n",
       "           DS_GRAU_INSTRUCAO DS_COR_RACA                           DS_OCUPACAO  \n",
       "593        SUPERIOR COMPLETO      BRANCA                         ADMINISTRADOR  \n",
       "22681      SUPERIOR COMPLETO      BRANCA                      POLICIAL MILITAR  \n",
       "28479      SUPERIOR COMPLETO      BRANCA                                MÉDICO  \n",
       "32239      SUPERIOR COMPLETO       PRETA  APOSENTADO (EXCETO SERVIDOR PÚBLICO)  \n",
       "33548      SUPERIOR COMPLETO      BRANCA                         ADMINISTRADOR  \n",
       "45254  ENSINO MÉDIO COMPLETO      BRANCA            ELETRICISTA E ASSEMELHADOS  \n",
       "52462      SUPERIOR COMPLETO       PARDA          PROFESSOR DE ENSINO SUPERIOR  \n",
       "61593      SUPERIOR COMPLETO      BRANCA                              ADVOGADO  \n",
       "70808      SUPERIOR COMPLETO      BRANCA                              PREFEITO  \n",
       "85011      SUPERIOR COMPLETO      BRANCA                              VEREADOR  \n",
       "85469  ENSINO MÉDIO COMPLETO       PRETA                         AGENTE POSTAL  "
      ]
     },
     "execution_count": 7,
     "metadata": {},
     "output_type": "execute_result"
    }
   ],
   "source": [
    "df_sjc.query('DS_CARGO == \"PREFEITO\"')"
   ]
  },
  {
   "cell_type": "code",
   "execution_count": 8,
   "metadata": {},
   "outputs": [
    {
     "data": {
      "text/plain": [
       "PT               34\n",
       "PSDB             34\n",
       "PSL              34\n",
       "PSD              34\n",
       "PL               33\n",
       "PTB              32\n",
       "PTC              32\n",
       "DEM              32\n",
       "CIDADANIA        32\n",
       "PRTB             32\n",
       "PATRIOTA         31\n",
       "PP               30\n",
       "PSC              29\n",
       "MDB              29\n",
       "AVANTE           28\n",
       "PC do B          27\n",
       "SOLIDARIEDADE    27\n",
       "REPUBLICANOS     25\n",
       "PODE             20\n",
       "PSOL             11\n",
       "NOVO             11\n",
       "PSTU              9\n",
       "PSB               8\n",
       "REDE              7\n",
       "Name: SG_PARTIDO, dtype: int64"
      ]
     },
     "execution_count": 8,
     "metadata": {},
     "output_type": "execute_result"
    }
   ],
   "source": [
    "df_sjc['SG_PARTIDO'].value_counts()"
   ]
  },
  {
   "cell_type": "code",
   "execution_count": 9,
   "metadata": {},
   "outputs": [
    {
     "data": {
      "text/plain": [
       "VEREADOR         599\n",
       "VICE-PREFEITO     11\n",
       "PREFEITO          11\n",
       "Name: DS_CARGO, dtype: int64"
      ]
     },
     "execution_count": 9,
     "metadata": {},
     "output_type": "execute_result"
    }
   ],
   "source": [
    "df_sjc['DS_CARGO'].value_counts()"
   ]
  },
  {
   "cell_type": "code",
   "execution_count": 10,
   "metadata": {},
   "outputs": [
    {
     "data": {
      "text/plain": [
       "DS_ELEICAO                  0\n",
       "SG_UF                       0\n",
       "NM_UE                       0\n",
       "DS_CARGO                    0\n",
       "DS_SITUACAO_CANDIDATURA     0\n",
       "DS_DETALHE_SITUACAO_CAND    0\n",
       "SG_PARTIDO                  0\n",
       "SG_UF_NASCIMENTO            0\n",
       "NM_MUNICIPIO_NASCIMENTO     0\n",
       "DS_GENERO                   0\n",
       "DS_GRAU_INSTRUCAO           0\n",
       "DS_COR_RACA                 0\n",
       "DS_OCUPACAO                 0\n",
       "dtype: int64"
      ]
     },
     "execution_count": 10,
     "metadata": {},
     "output_type": "execute_result"
    }
   ],
   "source": [
    "df_sjc.isnull().sum()"
   ]
  },
  {
   "cell_type": "markdown",
   "metadata": {},
   "source": [
    "## Proporção de generos em geral"
   ]
  },
  {
   "cell_type": "code",
   "execution_count": 11,
   "metadata": {},
   "outputs": [
    {
     "data": {
      "text/plain": [
       "MASCULINO    67.310789\n",
       "FEMININO     32.689211\n",
       "Name: DS_GENERO, dtype: float64"
      ]
     },
     "execution_count": 11,
     "metadata": {},
     "output_type": "execute_result"
    }
   ],
   "source": [
    "df_sjc['DS_GENERO'].value_counts('DS_GENERO')*100"
   ]
  },
  {
   "cell_type": "code",
   "execution_count": 18,
   "metadata": {},
   "outputs": [
    {
     "data": {
      "text/plain": [
       "<matplotlib.axes._subplots.AxesSubplot at 0x182e2d35c0>"
      ]
     },
     "execution_count": 18,
     "metadata": {},
     "output_type": "execute_result"
    },
    {
     "data": {
      "image/png": "[encoded data removed]",
      "text/plain": [
       "<Figure size 432x288 with 1 Axes>"
      ]
     },
     "metadata": {
      "needs_background": "light"
     },
     "output_type": "display_data"
    }
   ],
   "source": [
    "(df_sjc['DS_GENERO'].value_counts('DS_GENERO')*100).plot.bar(title='Porcentagem de candidados por genero')"
   ]
  },
  {
   "cell_type": "code",
   "execution_count": 12,
   "metadata": {},
   "outputs": [
    {
     "data": {
      "text/plain": [
       "MASCULINO    418\n",
       "FEMININO     203\n",
       "Name: DS_GENERO, dtype: int64"
      ]
     },
     "execution_count": 12,
     "metadata": {},
     "output_type": "execute_result"
    }
   ],
   "source": [
    "df_sjc['DS_GENERO'].value_counts()"
   ]
  },
  {
   "cell_type": "code",
   "execution_count": 19,
   "metadata": {},
   "outputs": [
    {
     "data": {
      "text/plain": [
       "<matplotlib.axes._subplots.AxesSubplot at 0x1829f16f28>"
      ]
     },
     "execution_count": 19,
     "metadata": {},
     "output_type": "execute_result"
    },
    {
     "data": {
      "image/png": "[encoded data removed]",
      "text/plain": [
       "<Figure size 432x288 with 1 Axes>"
      ]
     },
     "metadata": {
      "needs_background": "light"
     },
     "output_type": "display_data"
    }
   ],
   "source": [
    "df_sjc['DS_GENERO'].value_counts().plot.bar(title='Total de candidatos por genero')"
   ]
  },
  {
   "cell_type": "markdown",
   "metadata": {},
   "source": [
    "## Grau de escolaridade"
   ]
  },
  {
   "cell_type": "code",
   "execution_count": 14,
   "metadata": {},
   "outputs": [
    {
     "data": {
      "text/plain": [
       "SUPERIOR COMPLETO                240\n",
       "ENSINO MÉDIO COMPLETO            227\n",
       "ENSINO FUNDAMENTAL COMPLETO       48\n",
       "SUPERIOR INCOMPLETO               45\n",
       "ENSINO FUNDAMENTAL INCOMPLETO     31\n",
       "ENSINO MÉDIO INCOMPLETO           20\n",
       "LÊ E ESCREVE                      10\n",
       "Name: DS_GRAU_INSTRUCAO, dtype: int64"
      ]
     },
     "execution_count": 14,
     "metadata": {},
     "output_type": "execute_result"
    }
   ],
   "source": [
    "df_sjc['DS_GRAU_INSTRUCAO'].value_counts()"
   ]
  },
  {
   "cell_type": "code",
   "execution_count": 25,
   "metadata": {},
   "outputs": [
    {
     "data": {
      "text/plain": [
       "<matplotlib.axes._subplots.AxesSubplot at 0x18325adac8>"
      ]
     },
     "execution_count": 25,
     "metadata": {},
     "output_type": "execute_result"
    },
    {
     "data": {
      "image/png": "[encoded data removed]",
      "text/plain": [
       "<Figure size 432x288 with 1 Axes>"
      ]
     },
     "metadata": {
      "needs_background": "light"
     },
     "output_type": "display_data"
    }
   ],
   "source": [
    "df_sjc['DS_GRAU_INSTRUCAO'].value_counts(ascending=True).plot.barh()"
   ]
  },
  {
   "cell_type": "code",
   "execution_count": 15,
   "metadata": {},
   "outputs": [
    {
     "data": {
      "text/plain": [
       "SUPERIOR COMPLETO                38.647343\n",
       "ENSINO MÉDIO COMPLETO            36.553945\n",
       "ENSINO FUNDAMENTAL COMPLETO       7.729469\n",
       "SUPERIOR INCOMPLETO               7.246377\n",
       "ENSINO FUNDAMENTAL INCOMPLETO     4.991948\n",
       "ENSINO MÉDIO INCOMPLETO           3.220612\n",
       "LÊ E ESCREVE                      1.610306\n",
       "Name: DS_GRAU_INSTRUCAO, dtype: float64"
      ]
     },
     "execution_count": 15,
     "metadata": {},
     "output_type": "execute_result"
    }
   ],
   "source": [
    "df_sjc['DS_GRAU_INSTRUCAO'].value_counts('DS_GRAU_INSTRUCAO') * 100"
   ]
  },
  {
   "cell_type": "code",
   "execution_count": 28,
   "metadata": {},
   "outputs": [
    {
     "data": {
      "text/plain": [
       "<matplotlib.axes._subplots.AxesSubplot at 0x1830ec40b8>"
      ]
     },
     "execution_count": 28,
     "metadata": {},
     "output_type": "execute_result"
    },
    {
     "data": {
      "image/png": "[encoded data removed]",
      "text/plain": [
       "<Figure size 432x288 with 1 Axes>"
      ]
     },
     "metadata": {
      "needs_background": "light"
     },
     "output_type": "display_data"
    }
   ],
   "source": [
    "(df_sjc['DS_GRAU_INSTRUCAO'].value_counts('DS_GRAU_INSTRUCAO', ascending=True) * 100).plot.barh()"
   ]
  },
  {
   "cell_type": "code",
   "execution_count": 16,
   "metadata": {},
   "outputs": [
    {
     "data": {
      "text/plain": [
       "APTO      606\n",
       "INAPTO     15\n",
       "Name: DS_SITUACAO_CANDIDATURA, dtype: int64"
      ]
     },
     "execution_count": 16,
     "metadata": {},
     "output_type": "execute_result"
    }
   ],
   "source": [
    "df_sjc['DS_SITUACAO_CANDIDATURA'].value_counts()"
   ]
  },
  {
   "cell_type": "code",
   "execution_count": 17,
   "metadata": {},
   "outputs": [
    {
     "data": {
      "text/plain": [
       "DEFERIDO                  582\n",
       "INDEFERIDO COM RECURSO     22\n",
       "INDEFERIDO                  9\n",
       "RENÚNCIA                    6\n",
       "DEFERIDO COM RECURSO        2\n",
       "Name: DS_DETALHE_SITUACAO_CAND, dtype: int64"
      ]
     },
     "execution_count": 17,
     "metadata": {},
     "output_type": "execute_result"
    }
   ],
   "source": [
    "df_sjc['DS_DETALHE_SITUACAO_CAND'].value_counts()"
   ]
  },
  {
   "cell_type": "code",
   "execution_count": 31,
   "metadata": {},
   "outputs": [
    {
     "data": {
      "text/plain": [
       "<matplotlib.axes._subplots.AxesSubplot at 0x1831b69f60>"
      ]
     },
     "execution_count": 31,
     "metadata": {},
     "output_type": "execute_result"
    },
    {
     "data": {
      "image/png": "[encoded data removed]",
      "text/plain": [
       "<Figure size 432x288 with 1 Axes>"
      ]
     },
     "metadata": {
      "needs_background": "light"
     },
     "output_type": "display_data"
    }
   ],
   "source": [
    "df_sjc['DS_DETALHE_SITUACAO_CAND'].value_counts().plot.barh()"
   ]
  },
  {
   "cell_type": "code",
   "execution_count": null,
   "metadata": {},
   "outputs": [],
   "source": []
  }
 ],
 "metadata": {
  "kernelspec": {
   "display_name": "Python 3",
   "language": "python",
   "name": "python3"
  },
  "language_info": {
   "codemirror_mode": {
    "name": "ipython",
    "version": 3
   },
   "file_extension": ".py",
   "mimetype": "text/x-python",
   "name": "python",
   "nbconvert_exporter": "python",
   "pygments_lexer": "ipython3",
   "version": "3.7.3"
  }
 },
 "nbformat": 4,
 "nbformat_minor": 2
}
