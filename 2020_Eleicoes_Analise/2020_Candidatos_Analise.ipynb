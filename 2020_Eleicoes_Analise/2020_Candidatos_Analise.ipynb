{
 "cells": [
  {
   "cell_type": "markdown",
   "metadata": {},
   "source": [
    "# Eleições 2020\n",
    "## Analise de dados dos candidatos a prefeito e vereador"
   ]
  },
  {
   "cell_type": "markdown",
   "metadata": {},
   "source": [
    "Este é um trabalho de análise de dados das eleições municipais de 2020, feito por aluno(s) da faculdade de Tecnologia de São José dos Campos, Fatec Jessem Vidal, do curso de Análise e Desenvolvimento de Sistemas para a disciplina de Estrutura de Dados do Profº Fernando Masanori.\n",
    "A fonte dos dados pode ser acessada em http://www.tse.jus.br/eleicoes/estatisticas/repositorio-de-dados-eleitorais-1\n",
    "O conteúdo desde notebook serve apenas para aprendizado e não deve ser utilizado para fins de propaganda politico-partidaria de qualquer natureza. "
   ]
  },
  {
   "cell_type": "code",
   "execution_count": 1,
   "metadata": {},
   "outputs": [],
   "source": [
    "import pandas as pd\n",
    "import numpy as np\n",
    "import matplotlib.pyplot as plt"
   ]
  },
  {
   "cell_type": "code",
   "execution_count": 2,
   "metadata": {},
   "outputs": [
    {
     "data": {
      "text/plain": [
       "(93692, 13)"
      ]
     },
     "execution_count": 2,
     "metadata": {},
     "output_type": "execute_result"
    }
   ],
   "source": [
    "## importando os dados\n",
    "file = r'consulta_cand_2020_SP.csv'\n",
    "lst = ['DS_ELEICAO', 'SG_UF', 'NM_UE', 'DS_CARGO', 'DS_SITUACAO_CANDIDATURA', 'DS_DETALHE_SITUACAO_CAND', \n",
    "       'SG_PARTIDO', 'SG_UF_NASCIMENTO', 'NM_MUNICIPIO_NASCIMENTO', 'DS_GENERO', 'DS_GRAU_INSTRUCAO',\n",
    "       'DS_COR_RACA', 'DS_OCUPACAO']\n",
    "df = pd.read_csv(file, delimiter=';',usecols= lst, encoding='Latin 1')\n",
    "df.shape"
   ]
  },
  {
   "cell_type": "code",
   "execution_count": 3,
   "metadata": {
    "scrolled": false
   },
   "outputs": [
    {
     "name": "stdout",
     "output_type": "stream",
     "text": [
      "<class 'pandas.core.frame.DataFrame'>\n",
      "RangeIndex: 93692 entries, 0 to 93691\n",
      "Data columns (total 13 columns):\n",
      "DS_ELEICAO                  93692 non-null object\n",
      "SG_UF                       93692 non-null object\n",
      "NM_UE                       93692 non-null object\n",
      "DS_CARGO                    93692 non-null object\n",
      "DS_SITUACAO_CANDIDATURA     93692 non-null object\n",
      "DS_DETALHE_SITUACAO_CAND    93692 non-null object\n",
      "SG_PARTIDO                  93692 non-null object\n",
      "SG_UF_NASCIMENTO            93692 non-null object\n",
      "NM_MUNICIPIO_NASCIMENTO     93692 non-null object\n",
      "DS_GENERO                   93692 non-null object\n",
      "DS_GRAU_INSTRUCAO           93692 non-null object\n",
      "DS_COR_RACA                 93692 non-null object\n",
      "DS_OCUPACAO                 93692 non-null object\n",
      "dtypes: object(13)\n",
      "memory usage: 9.3+ MB\n"
     ]
    }
   ],
   "source": [
    "df.info()"
   ]
  },
  {
   "cell_type": "code",
   "execution_count": 4,
   "metadata": {
    "scrolled": true
   },
   "outputs": [
    {
     "data": {
      "text/html": [
       "<div>\n",
       "<style scoped>\n",
       "    .dataframe tbody tr th:only-of-type {\n",
       "        vertical-align: middle;\n",
       "    }\n",
       "\n",
       "    .dataframe tbody tr th {\n",
       "        vertical-align: top;\n",
       "    }\n",
       "\n",
       "    .dataframe thead th {\n",
       "        text-align: right;\n",
       "    }\n",
       "</style>\n",
       "<table border=\"1\" class=\"dataframe\">\n",
       "  <thead>\n",
       "    <tr style=\"text-align: right;\">\n",
       "      <th></th>\n",
       "      <th>DS_ELEICAO</th>\n",
       "      <th>SG_UF</th>\n",
       "      <th>NM_UE</th>\n",
       "      <th>DS_CARGO</th>\n",
       "      <th>DS_SITUACAO_CANDIDATURA</th>\n",
       "      <th>DS_DETALHE_SITUACAO_CAND</th>\n",
       "      <th>SG_PARTIDO</th>\n",
       "      <th>SG_UF_NASCIMENTO</th>\n",
       "      <th>NM_MUNICIPIO_NASCIMENTO</th>\n",
       "      <th>DS_GENERO</th>\n",
       "      <th>DS_GRAU_INSTRUCAO</th>\n",
       "      <th>DS_COR_RACA</th>\n",
       "      <th>DS_OCUPACAO</th>\n",
       "    </tr>\n",
       "  </thead>\n",
       "  <tbody>\n",
       "    <tr>\n",
       "      <th>70643</th>\n",
       "      <td>Eleições Municipais 2020</td>\n",
       "      <td>SP</td>\n",
       "      <td>TAUBATÉ</td>\n",
       "      <td>VEREADOR</td>\n",
       "      <td>APTO</td>\n",
       "      <td>DEFERIDO</td>\n",
       "      <td>CIDADANIA</td>\n",
       "      <td>SP</td>\n",
       "      <td>TAUBATÉ</td>\n",
       "      <td>MASCULINO</td>\n",
       "      <td>SUPERIOR COMPLETO</td>\n",
       "      <td>BRANCA</td>\n",
       "      <td>OUTROS</td>\n",
       "    </tr>\n",
       "    <tr>\n",
       "      <th>3652</th>\n",
       "      <td>Eleições Municipais 2020</td>\n",
       "      <td>SP</td>\n",
       "      <td>CAMPOS NOVOS PAULISTA</td>\n",
       "      <td>VEREADOR</td>\n",
       "      <td>APTO</td>\n",
       "      <td>DEFERIDO</td>\n",
       "      <td>CIDADANIA</td>\n",
       "      <td>SP</td>\n",
       "      <td>BOTUCATU</td>\n",
       "      <td>MASCULINO</td>\n",
       "      <td>ENSINO FUNDAMENTAL INCOMPLETO</td>\n",
       "      <td>BRANCA</td>\n",
       "      <td>MOTORISTA DE VEÍCULOS DE TRANSPORTE COLETIVO D...</td>\n",
       "    </tr>\n",
       "    <tr>\n",
       "      <th>86191</th>\n",
       "      <td>Eleições Municipais 2020</td>\n",
       "      <td>SP</td>\n",
       "      <td>BARUERI</td>\n",
       "      <td>VICE-PREFEITO</td>\n",
       "      <td>APTO</td>\n",
       "      <td>DEFERIDO</td>\n",
       "      <td>PROS</td>\n",
       "      <td>SP</td>\n",
       "      <td>OSASCO</td>\n",
       "      <td>FEMININO</td>\n",
       "      <td>SUPERIOR INCOMPLETO</td>\n",
       "      <td>BRANCA</td>\n",
       "      <td>SERVIDOR PÚBLICO MUNICIPAL</td>\n",
       "    </tr>\n",
       "    <tr>\n",
       "      <th>82839</th>\n",
       "      <td>Eleições Municipais 2020</td>\n",
       "      <td>SP</td>\n",
       "      <td>ATIBAIA</td>\n",
       "      <td>VEREADOR</td>\n",
       "      <td>APTO</td>\n",
       "      <td>DEFERIDO</td>\n",
       "      <td>PATRIOTA</td>\n",
       "      <td>SP</td>\n",
       "      <td>SÃO PAULO</td>\n",
       "      <td>MASCULINO</td>\n",
       "      <td>SUPERIOR COMPLETO</td>\n",
       "      <td>PARDA</td>\n",
       "      <td>GERENTE</td>\n",
       "    </tr>\n",
       "    <tr>\n",
       "      <th>11592</th>\n",
       "      <td>Eleições Municipais 2020</td>\n",
       "      <td>SP</td>\n",
       "      <td>BEBEDOURO</td>\n",
       "      <td>VEREADOR</td>\n",
       "      <td>APTO</td>\n",
       "      <td>DEFERIDO</td>\n",
       "      <td>DEM</td>\n",
       "      <td>SP</td>\n",
       "      <td>BEBEDOURO</td>\n",
       "      <td>MASCULINO</td>\n",
       "      <td>ENSINO MÉDIO COMPLETO</td>\n",
       "      <td>BRANCA</td>\n",
       "      <td>VEREADOR</td>\n",
       "    </tr>\n",
       "  </tbody>\n",
       "</table>\n",
       "</div>"
      ],
      "text/plain": [
       "                     DS_ELEICAO SG_UF                  NM_UE       DS_CARGO  \\\n",
       "70643  Eleições Municipais 2020    SP                TAUBATÉ       VEREADOR   \n",
       "3652   Eleições Municipais 2020    SP  CAMPOS NOVOS PAULISTA       VEREADOR   \n",
       "86191  Eleições Municipais 2020    SP                BARUERI  VICE-PREFEITO   \n",
       "82839  Eleições Municipais 2020    SP                ATIBAIA       VEREADOR   \n",
       "11592  Eleições Municipais 2020    SP              BEBEDOURO       VEREADOR   \n",
       "\n",
       "      DS_SITUACAO_CANDIDATURA DS_DETALHE_SITUACAO_CAND SG_PARTIDO  \\\n",
       "70643                    APTO                 DEFERIDO  CIDADANIA   \n",
       "3652                     APTO                 DEFERIDO  CIDADANIA   \n",
       "86191                    APTO                 DEFERIDO       PROS   \n",
       "82839                    APTO                 DEFERIDO   PATRIOTA   \n",
       "11592                    APTO                 DEFERIDO        DEM   \n",
       "\n",
       "      SG_UF_NASCIMENTO NM_MUNICIPIO_NASCIMENTO  DS_GENERO  \\\n",
       "70643               SP                 TAUBATÉ  MASCULINO   \n",
       "3652                SP                BOTUCATU  MASCULINO   \n",
       "86191               SP                  OSASCO   FEMININO   \n",
       "82839               SP               SÃO PAULO  MASCULINO   \n",
       "11592               SP               BEBEDOURO  MASCULINO   \n",
       "\n",
       "                   DS_GRAU_INSTRUCAO DS_COR_RACA  \\\n",
       "70643              SUPERIOR COMPLETO      BRANCA   \n",
       "3652   ENSINO FUNDAMENTAL INCOMPLETO      BRANCA   \n",
       "86191            SUPERIOR INCOMPLETO      BRANCA   \n",
       "82839              SUPERIOR COMPLETO       PARDA   \n",
       "11592          ENSINO MÉDIO COMPLETO      BRANCA   \n",
       "\n",
       "                                             DS_OCUPACAO  \n",
       "70643                                             OUTROS  \n",
       "3652   MOTORISTA DE VEÍCULOS DE TRANSPORTE COLETIVO D...  \n",
       "86191                         SERVIDOR PÚBLICO MUNICIPAL  \n",
       "82839                                            GERENTE  \n",
       "11592                                           VEREADOR  "
      ]
     },
     "execution_count": 4,
     "metadata": {},
     "output_type": "execute_result"
    }
   ],
   "source": [
    "df.sample(5)"
   ]
  },
  {
   "cell_type": "markdown",
   "metadata": {},
   "source": [
    "Primeiro farei uma analise apenas dos candidatos do municipio de São José dos Campos.\n",
    "Usaremos as seguintes colunas: DS_ELEICAO, SG_UF, NM_UE, DS_CARGO, DS_CARGO, DS_SITUACAO_CANDIDATURA, DS_DETALHE_SITUACAO_CAND, SG_PARTIDO, DS_NACIONALIDADE, SG_UF_NASCIMENTO, NM_MUNICIPIO_NASCIMENTO, DS_GENERO, DS_GRAU_INSTRUCAO, DS_COR_RACA, DS_OCUPACAO, VR_DESPESA_MAX_CAMPANHA e ST_REELEICAO, uma vez que o arquivo original tem 63 colunas."
   ]
  },
  {
   "cell_type": "code",
   "execution_count": 5,
   "metadata": {},
   "outputs": [
    {
     "data": {
      "text/plain": [
       "(621, 13)"
      ]
     },
     "execution_count": 5,
     "metadata": {},
     "output_type": "execute_result"
    }
   ],
   "source": [
    "df_sjc = df.query('NM_UE == \"SÃO JOSÉ DOS CAMPOS\"')\n",
    "df_sjc.shape"
   ]
  },
  {
   "cell_type": "code",
   "execution_count": 6,
   "metadata": {},
   "outputs": [
    {
     "data": {
      "text/html": [
       "<div>\n",
       "<style scoped>\n",
       "    .dataframe tbody tr th:only-of-type {\n",
       "        vertical-align: middle;\n",
       "    }\n",
       "\n",
       "    .dataframe tbody tr th {\n",
       "        vertical-align: top;\n",
       "    }\n",
       "\n",
       "    .dataframe thead th {\n",
       "        text-align: right;\n",
       "    }\n",
       "</style>\n",
       "<table border=\"1\" class=\"dataframe\">\n",
       "  <thead>\n",
       "    <tr style=\"text-align: right;\">\n",
       "      <th></th>\n",
       "      <th>DS_ELEICAO</th>\n",
       "      <th>SG_UF</th>\n",
       "      <th>NM_UE</th>\n",
       "      <th>DS_CARGO</th>\n",
       "      <th>DS_SITUACAO_CANDIDATURA</th>\n",
       "      <th>DS_DETALHE_SITUACAO_CAND</th>\n",
       "      <th>SG_PARTIDO</th>\n",
       "      <th>SG_UF_NASCIMENTO</th>\n",
       "      <th>NM_MUNICIPIO_NASCIMENTO</th>\n",
       "      <th>DS_GENERO</th>\n",
       "      <th>DS_GRAU_INSTRUCAO</th>\n",
       "      <th>DS_COR_RACA</th>\n",
       "      <th>DS_OCUPACAO</th>\n",
       "    </tr>\n",
       "  </thead>\n",
       "  <tbody>\n",
       "    <tr>\n",
       "      <th>1220</th>\n",
       "      <td>Eleições Municipais 2020</td>\n",
       "      <td>SP</td>\n",
       "      <td>SÃO JOSÉ DOS CAMPOS</td>\n",
       "      <td>VEREADOR</td>\n",
       "      <td>APTO</td>\n",
       "      <td>DEFERIDO</td>\n",
       "      <td>PSD</td>\n",
       "      <td>SP</td>\n",
       "      <td>CAMPINAS</td>\n",
       "      <td>FEMININO</td>\n",
       "      <td>SUPERIOR COMPLETO</td>\n",
       "      <td>BRANCA</td>\n",
       "      <td>OUTROS</td>\n",
       "    </tr>\n",
       "    <tr>\n",
       "      <th>65428</th>\n",
       "      <td>Eleições Municipais 2020</td>\n",
       "      <td>SP</td>\n",
       "      <td>SÃO JOSÉ DOS CAMPOS</td>\n",
       "      <td>VEREADOR</td>\n",
       "      <td>APTO</td>\n",
       "      <td>DEFERIDO</td>\n",
       "      <td>PSC</td>\n",
       "      <td>SP</td>\n",
       "      <td>SÃO JOSÉ DOS CAMPOS</td>\n",
       "      <td>MASCULINO</td>\n",
       "      <td>SUPERIOR COMPLETO</td>\n",
       "      <td>BRANCA</td>\n",
       "      <td>APOSENTADO (EXCETO SERVIDOR PÚBLICO)</td>\n",
       "    </tr>\n",
       "    <tr>\n",
       "      <th>64179</th>\n",
       "      <td>Eleições Municipais 2020</td>\n",
       "      <td>SP</td>\n",
       "      <td>SÃO JOSÉ DOS CAMPOS</td>\n",
       "      <td>VEREADOR</td>\n",
       "      <td>APTO</td>\n",
       "      <td>DEFERIDO</td>\n",
       "      <td>PSDB</td>\n",
       "      <td>SP</td>\n",
       "      <td>SÃO JOSÉ DOS CAMPOS</td>\n",
       "      <td>MASCULINO</td>\n",
       "      <td>SUPERIOR COMPLETO</td>\n",
       "      <td>BRANCA</td>\n",
       "      <td>VEREADOR</td>\n",
       "    </tr>\n",
       "    <tr>\n",
       "      <th>57536</th>\n",
       "      <td>Eleições Municipais 2020</td>\n",
       "      <td>SP</td>\n",
       "      <td>SÃO JOSÉ DOS CAMPOS</td>\n",
       "      <td>VEREADOR</td>\n",
       "      <td>APTO</td>\n",
       "      <td>DEFERIDO</td>\n",
       "      <td>PC do B</td>\n",
       "      <td>MG</td>\n",
       "      <td>INHAPIM</td>\n",
       "      <td>MASCULINO</td>\n",
       "      <td>SUPERIOR COMPLETO</td>\n",
       "      <td>BRANCA</td>\n",
       "      <td>ADVOGADO</td>\n",
       "    </tr>\n",
       "    <tr>\n",
       "      <th>73933</th>\n",
       "      <td>Eleições Municipais 2020</td>\n",
       "      <td>SP</td>\n",
       "      <td>SÃO JOSÉ DOS CAMPOS</td>\n",
       "      <td>VEREADOR</td>\n",
       "      <td>APTO</td>\n",
       "      <td>DEFERIDO</td>\n",
       "      <td>PSD</td>\n",
       "      <td>BA</td>\n",
       "      <td>SALVADOR</td>\n",
       "      <td>FEMININO</td>\n",
       "      <td>ENSINO MÉDIO COMPLETO</td>\n",
       "      <td>PARDA</td>\n",
       "      <td>APOSENTADO (EXCETO SERVIDOR PÚBLICO)</td>\n",
       "    </tr>\n",
       "  </tbody>\n",
       "</table>\n",
       "</div>"
      ],
      "text/plain": [
       "                     DS_ELEICAO SG_UF                NM_UE  DS_CARGO  \\\n",
       "1220   Eleições Municipais 2020    SP  SÃO JOSÉ DOS CAMPOS  VEREADOR   \n",
       "65428  Eleições Municipais 2020    SP  SÃO JOSÉ DOS CAMPOS  VEREADOR   \n",
       "64179  Eleições Municipais 2020    SP  SÃO JOSÉ DOS CAMPOS  VEREADOR   \n",
       "57536  Eleições Municipais 2020    SP  SÃO JOSÉ DOS CAMPOS  VEREADOR   \n",
       "73933  Eleições Municipais 2020    SP  SÃO JOSÉ DOS CAMPOS  VEREADOR   \n",
       "\n",
       "      DS_SITUACAO_CANDIDATURA DS_DETALHE_SITUACAO_CAND SG_PARTIDO  \\\n",
       "1220                     APTO                 DEFERIDO        PSD   \n",
       "65428                    APTO                 DEFERIDO        PSC   \n",
       "64179                    APTO                 DEFERIDO       PSDB   \n",
       "57536                    APTO                 DEFERIDO    PC do B   \n",
       "73933                    APTO                 DEFERIDO        PSD   \n",
       "\n",
       "      SG_UF_NASCIMENTO NM_MUNICIPIO_NASCIMENTO  DS_GENERO  \\\n",
       "1220                SP                CAMPINAS   FEMININO   \n",
       "65428               SP     SÃO JOSÉ DOS CAMPOS  MASCULINO   \n",
       "64179               SP     SÃO JOSÉ DOS CAMPOS  MASCULINO   \n",
       "57536               MG                 INHAPIM  MASCULINO   \n",
       "73933               BA                SALVADOR   FEMININO   \n",
       "\n",
       "           DS_GRAU_INSTRUCAO DS_COR_RACA                           DS_OCUPACAO  \n",
       "1220       SUPERIOR COMPLETO      BRANCA                                OUTROS  \n",
       "65428      SUPERIOR COMPLETO      BRANCA  APOSENTADO (EXCETO SERVIDOR PÚBLICO)  \n",
       "64179      SUPERIOR COMPLETO      BRANCA                              VEREADOR  \n",
       "57536      SUPERIOR COMPLETO      BRANCA                              ADVOGADO  \n",
       "73933  ENSINO MÉDIO COMPLETO       PARDA  APOSENTADO (EXCETO SERVIDOR PÚBLICO)  "
      ]
     },
     "execution_count": 6,
     "metadata": {},
     "output_type": "execute_result"
    }
   ],
   "source": [
    "df_sjc.sample(5)"
   ]
  },
  {
   "cell_type": "code",
   "execution_count": 7,
   "metadata": {},
   "outputs": [
    {
     "data": {
      "text/html": [
       "<div>\n",
       "<style scoped>\n",
       "    .dataframe tbody tr th:only-of-type {\n",
       "        vertical-align: middle;\n",
       "    }\n",
       "\n",
       "    .dataframe tbody tr th {\n",
       "        vertical-align: top;\n",
       "    }\n",
       "\n",
       "    .dataframe thead th {\n",
       "        text-align: right;\n",
       "    }\n",
       "</style>\n",
       "<table border=\"1\" class=\"dataframe\">\n",
       "  <thead>\n",
       "    <tr style=\"text-align: right;\">\n",
       "      <th></th>\n",
       "      <th>DS_ELEICAO</th>\n",
       "      <th>SG_UF</th>\n",
       "      <th>NM_UE</th>\n",
       "      <th>DS_CARGO</th>\n",
       "      <th>DS_SITUACAO_CANDIDATURA</th>\n",
       "      <th>DS_DETALHE_SITUACAO_CAND</th>\n",
       "      <th>SG_PARTIDO</th>\n",
       "      <th>SG_UF_NASCIMENTO</th>\n",
       "      <th>NM_MUNICIPIO_NASCIMENTO</th>\n",
       "      <th>DS_GENERO</th>\n",
       "      <th>DS_GRAU_INSTRUCAO</th>\n",
       "      <th>DS_COR_RACA</th>\n",
       "      <th>DS_OCUPACAO</th>\n",
       "    </tr>\n",
       "  </thead>\n",
       "  <tbody>\n",
       "    <tr>\n",
       "      <th>593</th>\n",
       "      <td>Eleições Municipais 2020</td>\n",
       "      <td>SP</td>\n",
       "      <td>SÃO JOSÉ DOS CAMPOS</td>\n",
       "      <td>PREFEITO</td>\n",
       "      <td>APTO</td>\n",
       "      <td>DEFERIDO</td>\n",
       "      <td>PSL</td>\n",
       "      <td>SP</td>\n",
       "      <td>APARECIDA</td>\n",
       "      <td>MASCULINO</td>\n",
       "      <td>SUPERIOR COMPLETO</td>\n",
       "      <td>BRANCA</td>\n",
       "      <td>ADMINISTRADOR</td>\n",
       "    </tr>\n",
       "    <tr>\n",
       "      <th>22681</th>\n",
       "      <td>Eleições Municipais 2020</td>\n",
       "      <td>SP</td>\n",
       "      <td>SÃO JOSÉ DOS CAMPOS</td>\n",
       "      <td>PREFEITO</td>\n",
       "      <td>APTO</td>\n",
       "      <td>DEFERIDO</td>\n",
       "      <td>PL</td>\n",
       "      <td>SP</td>\n",
       "      <td>SÃO PAULO</td>\n",
       "      <td>FEMININO</td>\n",
       "      <td>SUPERIOR COMPLETO</td>\n",
       "      <td>BRANCA</td>\n",
       "      <td>POLICIAL MILITAR</td>\n",
       "    </tr>\n",
       "    <tr>\n",
       "      <th>28479</th>\n",
       "      <td>Eleições Municipais 2020</td>\n",
       "      <td>SP</td>\n",
       "      <td>SÃO JOSÉ DOS CAMPOS</td>\n",
       "      <td>PREFEITO</td>\n",
       "      <td>APTO</td>\n",
       "      <td>DEFERIDO</td>\n",
       "      <td>PSB</td>\n",
       "      <td>SP</td>\n",
       "      <td>SÃO PAULO</td>\n",
       "      <td>MASCULINO</td>\n",
       "      <td>SUPERIOR COMPLETO</td>\n",
       "      <td>BRANCA</td>\n",
       "      <td>MÉDICO</td>\n",
       "    </tr>\n",
       "    <tr>\n",
       "      <th>32239</th>\n",
       "      <td>Eleições Municipais 2020</td>\n",
       "      <td>SP</td>\n",
       "      <td>SÃO JOSÉ DOS CAMPOS</td>\n",
       "      <td>PREFEITO</td>\n",
       "      <td>APTO</td>\n",
       "      <td>DEFERIDO</td>\n",
       "      <td>PC do B</td>\n",
       "      <td>SP</td>\n",
       "      <td>CRUZEIRO</td>\n",
       "      <td>MASCULINO</td>\n",
       "      <td>SUPERIOR COMPLETO</td>\n",
       "      <td>PRETA</td>\n",
       "      <td>APOSENTADO (EXCETO SERVIDOR PÚBLICO)</td>\n",
       "    </tr>\n",
       "    <tr>\n",
       "      <th>33548</th>\n",
       "      <td>Eleições Municipais 2020</td>\n",
       "      <td>SP</td>\n",
       "      <td>SÃO JOSÉ DOS CAMPOS</td>\n",
       "      <td>PREFEITO</td>\n",
       "      <td>APTO</td>\n",
       "      <td>DEFERIDO</td>\n",
       "      <td>PTC</td>\n",
       "      <td>SP</td>\n",
       "      <td>SERTÃOZINHO</td>\n",
       "      <td>MASCULINO</td>\n",
       "      <td>SUPERIOR COMPLETO</td>\n",
       "      <td>BRANCA</td>\n",
       "      <td>ADMINISTRADOR</td>\n",
       "    </tr>\n",
       "    <tr>\n",
       "      <th>45254</th>\n",
       "      <td>Eleições Municipais 2020</td>\n",
       "      <td>SP</td>\n",
       "      <td>SÃO JOSÉ DOS CAMPOS</td>\n",
       "      <td>PREFEITO</td>\n",
       "      <td>APTO</td>\n",
       "      <td>DEFERIDO</td>\n",
       "      <td>PSOL</td>\n",
       "      <td>SP</td>\n",
       "      <td>SÃO PAULO</td>\n",
       "      <td>FEMININO</td>\n",
       "      <td>ENSINO MÉDIO COMPLETO</td>\n",
       "      <td>BRANCA</td>\n",
       "      <td>ELETRICISTA E ASSEMELHADOS</td>\n",
       "    </tr>\n",
       "    <tr>\n",
       "      <th>52462</th>\n",
       "      <td>Eleições Municipais 2020</td>\n",
       "      <td>SP</td>\n",
       "      <td>SÃO JOSÉ DOS CAMPOS</td>\n",
       "      <td>PREFEITO</td>\n",
       "      <td>APTO</td>\n",
       "      <td>DEFERIDO</td>\n",
       "      <td>NOVO</td>\n",
       "      <td>RO</td>\n",
       "      <td>PORTO VELHO</td>\n",
       "      <td>MASCULINO</td>\n",
       "      <td>SUPERIOR COMPLETO</td>\n",
       "      <td>PARDA</td>\n",
       "      <td>PROFESSOR DE ENSINO SUPERIOR</td>\n",
       "    </tr>\n",
       "    <tr>\n",
       "      <th>61593</th>\n",
       "      <td>Eleições Municipais 2020</td>\n",
       "      <td>SP</td>\n",
       "      <td>SÃO JOSÉ DOS CAMPOS</td>\n",
       "      <td>PREFEITO</td>\n",
       "      <td>APTO</td>\n",
       "      <td>DEFERIDO</td>\n",
       "      <td>PSD</td>\n",
       "      <td>SP</td>\n",
       "      <td>TAUBATÉ</td>\n",
       "      <td>FEMININO</td>\n",
       "      <td>SUPERIOR COMPLETO</td>\n",
       "      <td>BRANCA</td>\n",
       "      <td>ADVOGADO</td>\n",
       "    </tr>\n",
       "    <tr>\n",
       "      <th>70808</th>\n",
       "      <td>Eleições Municipais 2020</td>\n",
       "      <td>SP</td>\n",
       "      <td>SÃO JOSÉ DOS CAMPOS</td>\n",
       "      <td>PREFEITO</td>\n",
       "      <td>APTO</td>\n",
       "      <td>DEFERIDO</td>\n",
       "      <td>PSDB</td>\n",
       "      <td>SP</td>\n",
       "      <td>SÃO PAULO</td>\n",
       "      <td>MASCULINO</td>\n",
       "      <td>SUPERIOR COMPLETO</td>\n",
       "      <td>BRANCA</td>\n",
       "      <td>PREFEITO</td>\n",
       "    </tr>\n",
       "    <tr>\n",
       "      <th>85011</th>\n",
       "      <td>Eleições Municipais 2020</td>\n",
       "      <td>SP</td>\n",
       "      <td>SÃO JOSÉ DOS CAMPOS</td>\n",
       "      <td>PREFEITO</td>\n",
       "      <td>APTO</td>\n",
       "      <td>DEFERIDO</td>\n",
       "      <td>PT</td>\n",
       "      <td>SP</td>\n",
       "      <td>SÃO JOSÉ DOS CAMPOS</td>\n",
       "      <td>MASCULINO</td>\n",
       "      <td>SUPERIOR COMPLETO</td>\n",
       "      <td>BRANCA</td>\n",
       "      <td>VEREADOR</td>\n",
       "    </tr>\n",
       "    <tr>\n",
       "      <th>85469</th>\n",
       "      <td>Eleições Municipais 2020</td>\n",
       "      <td>SP</td>\n",
       "      <td>SÃO JOSÉ DOS CAMPOS</td>\n",
       "      <td>PREFEITO</td>\n",
       "      <td>APTO</td>\n",
       "      <td>DEFERIDO</td>\n",
       "      <td>PSTU</td>\n",
       "      <td>MG</td>\n",
       "      <td>TRÊS PONTAS</td>\n",
       "      <td>FEMININO</td>\n",
       "      <td>ENSINO MÉDIO COMPLETO</td>\n",
       "      <td>PRETA</td>\n",
       "      <td>AGENTE POSTAL</td>\n",
       "    </tr>\n",
       "  </tbody>\n",
       "</table>\n",
       "</div>"
      ],
      "text/plain": [
       "                     DS_ELEICAO SG_UF                NM_UE  DS_CARGO  \\\n",
       "593    Eleições Municipais 2020    SP  SÃO JOSÉ DOS CAMPOS  PREFEITO   \n",
       "22681  Eleições Municipais 2020    SP  SÃO JOSÉ DOS CAMPOS  PREFEITO   \n",
       "28479  Eleições Municipais 2020    SP  SÃO JOSÉ DOS CAMPOS  PREFEITO   \n",
       "32239  Eleições Municipais 2020    SP  SÃO JOSÉ DOS CAMPOS  PREFEITO   \n",
       "33548  Eleições Municipais 2020    SP  SÃO JOSÉ DOS CAMPOS  PREFEITO   \n",
       "45254  Eleições Municipais 2020    SP  SÃO JOSÉ DOS CAMPOS  PREFEITO   \n",
       "52462  Eleições Municipais 2020    SP  SÃO JOSÉ DOS CAMPOS  PREFEITO   \n",
       "61593  Eleições Municipais 2020    SP  SÃO JOSÉ DOS CAMPOS  PREFEITO   \n",
       "70808  Eleições Municipais 2020    SP  SÃO JOSÉ DOS CAMPOS  PREFEITO   \n",
       "85011  Eleições Municipais 2020    SP  SÃO JOSÉ DOS CAMPOS  PREFEITO   \n",
       "85469  Eleições Municipais 2020    SP  SÃO JOSÉ DOS CAMPOS  PREFEITO   \n",
       "\n",
       "      DS_SITUACAO_CANDIDATURA DS_DETALHE_SITUACAO_CAND SG_PARTIDO  \\\n",
       "593                      APTO                 DEFERIDO        PSL   \n",
       "22681                    APTO                 DEFERIDO         PL   \n",
       "28479                    APTO                 DEFERIDO        PSB   \n",
       "32239                    APTO                 DEFERIDO    PC do B   \n",
       "33548                    APTO                 DEFERIDO        PTC   \n",
       "45254                    APTO                 DEFERIDO       PSOL   \n",
       "52462                    APTO                 DEFERIDO       NOVO   \n",
       "61593                    APTO                 DEFERIDO        PSD   \n",
       "70808                    APTO                 DEFERIDO       PSDB   \n",
       "85011                    APTO                 DEFERIDO         PT   \n",
       "85469                    APTO                 DEFERIDO       PSTU   \n",
       "\n",
       "      SG_UF_NASCIMENTO NM_MUNICIPIO_NASCIMENTO  DS_GENERO  \\\n",
       "593                 SP               APARECIDA  MASCULINO   \n",
       "22681               SP               SÃO PAULO   FEMININO   \n",
       "28479               SP               SÃO PAULO  MASCULINO   \n",
       "32239               SP                CRUZEIRO  MASCULINO   \n",
       "33548               SP             SERTÃOZINHO  MASCULINO   \n",
       "45254               SP               SÃO PAULO   FEMININO   \n",
       "52462               RO             PORTO VELHO  MASCULINO   \n",
       "61593               SP                 TAUBATÉ   FEMININO   \n",
       "70808               SP               SÃO PAULO  MASCULINO   \n",
       "85011               SP     SÃO JOSÉ DOS CAMPOS  MASCULINO   \n",
       "85469               MG             TRÊS PONTAS   FEMININO   \n",
       "\n",
       "           DS_GRAU_INSTRUCAO DS_COR_RACA                           DS_OCUPACAO  \n",
       "593        SUPERIOR COMPLETO      BRANCA                         ADMINISTRADOR  \n",
       "22681      SUPERIOR COMPLETO      BRANCA                      POLICIAL MILITAR  \n",
       "28479      SUPERIOR COMPLETO      BRANCA                                MÉDICO  \n",
       "32239      SUPERIOR COMPLETO       PRETA  APOSENTADO (EXCETO SERVIDOR PÚBLICO)  \n",
       "33548      SUPERIOR COMPLETO      BRANCA                         ADMINISTRADOR  \n",
       "45254  ENSINO MÉDIO COMPLETO      BRANCA            ELETRICISTA E ASSEMELHADOS  \n",
       "52462      SUPERIOR COMPLETO       PARDA          PROFESSOR DE ENSINO SUPERIOR  \n",
       "61593      SUPERIOR COMPLETO      BRANCA                              ADVOGADO  \n",
       "70808      SUPERIOR COMPLETO      BRANCA                              PREFEITO  \n",
       "85011      SUPERIOR COMPLETO      BRANCA                              VEREADOR  \n",
       "85469  ENSINO MÉDIO COMPLETO       PRETA                         AGENTE POSTAL  "
      ]
     },
     "execution_count": 7,
     "metadata": {},
     "output_type": "execute_result"
    }
   ],
   "source": [
    "df_sjc.query('DS_CARGO == \"PREFEITO\"')"
   ]
  },
  {
   "cell_type": "code",
   "execution_count": 8,
   "metadata": {},
   "outputs": [
    {
     "data": {
      "text/plain": [
       "PT               34\n",
       "PSL              34\n",
       "PSDB             34\n",
       "PSD              34\n",
       "PL               33\n",
       "DEM              32\n",
       "PRTB             32\n",
       "PTB              32\n",
       "CIDADANIA        32\n",
       "PTC              32\n",
       "PATRIOTA         31\n",
       "PP               30\n",
       "PSC              29\n",
       "MDB              29\n",
       "AVANTE           28\n",
       "PC do B          27\n",
       "SOLIDARIEDADE    27\n",
       "REPUBLICANOS     25\n",
       "PODE             20\n",
       "NOVO             11\n",
       "PSOL             11\n",
       "PSTU              9\n",
       "PSB               8\n",
       "REDE              7\n",
       "Name: SG_PARTIDO, dtype: int64"
      ]
     },
     "execution_count": 8,
     "metadata": {},
     "output_type": "execute_result"
    }
   ],
   "source": [
    "df_sjc['SG_PARTIDO'].value_counts()"
   ]
  },
  {
   "cell_type": "code",
   "execution_count": 9,
   "metadata": {},
   "outputs": [
    {
     "name": "stdout",
     "output_type": "stream",
     "text": [
      "Temos 621 candidados em São José dos Campos, destes, 11 são para prefeito\n"
     ]
    }
   ],
   "source": [
    "c = 0\n",
    "for candidato in df_sjc['DS_CARGO']:\n",
    "    if candidato == 'PREFEITO':\n",
    "        c += 1\n",
    "\n",
    "print(f'Temos {len(df_sjc)} candidados em São José dos Campos, destes, {c} são para prefeito')"
   ]
  },
  {
   "cell_type": "code",
   "execution_count": 10,
   "metadata": {},
   "outputs": [
    {
     "data": {
      "text/plain": [
       "DS_ELEICAO                  0\n",
       "SG_UF                       0\n",
       "NM_UE                       0\n",
       "DS_CARGO                    0\n",
       "DS_SITUACAO_CANDIDATURA     0\n",
       "DS_DETALHE_SITUACAO_CAND    0\n",
       "SG_PARTIDO                  0\n",
       "SG_UF_NASCIMENTO            0\n",
       "NM_MUNICIPIO_NASCIMENTO     0\n",
       "DS_GENERO                   0\n",
       "DS_GRAU_INSTRUCAO           0\n",
       "DS_COR_RACA                 0\n",
       "DS_OCUPACAO                 0\n",
       "dtype: int64"
      ]
     },
     "execution_count": 10,
     "metadata": {},
     "output_type": "execute_result"
    }
   ],
   "source": [
    "df_sjc.isnull().sum()"
   ]
  },
  {
   "cell_type": "markdown",
   "metadata": {},
   "source": [
    "## Proporção de generos em geral"
   ]
  },
  {
   "cell_type": "code",
   "execution_count": 11,
   "metadata": {},
   "outputs": [
    {
     "data": {
      "text/plain": [
       "MASCULINO    0.673108\n",
       "FEMININO     0.326892\n",
       "Name: DS_GENERO, dtype: float64"
      ]
     },
     "execution_count": 11,
     "metadata": {},
     "output_type": "execute_result"
    }
   ],
   "source": [
    "df_sjc['DS_GENERO'].value_counts('DS_GENERO')"
   ]
  },
  {
   "cell_type": "code",
   "execution_count": 12,
   "metadata": {},
   "outputs": [
    {
     "data": {
      "text/plain": [
       "MASCULINO    418\n",
       "FEMININO     203\n",
       "Name: DS_GENERO, dtype: int64"
      ]
     },
     "execution_count": 12,
     "metadata": {},
     "output_type": "execute_result"
    }
   ],
   "source": [
    "df_sjc['DS_GENERO'].value_counts()"
   ]
  },
  {
   "cell_type": "markdown",
   "metadata": {},
   "source": [
    "## Grau de escolaridade"
   ]
  },
  {
   "cell_type": "code",
   "execution_count": 13,
   "metadata": {},
   "outputs": [
    {
     "data": {
      "text/plain": [
       "SUPERIOR COMPLETO                240\n",
       "ENSINO MÉDIO COMPLETO            227\n",
       "ENSINO FUNDAMENTAL COMPLETO       48\n",
       "SUPERIOR INCOMPLETO               45\n",
       "ENSINO FUNDAMENTAL INCOMPLETO     31\n",
       "ENSINO MÉDIO INCOMPLETO           20\n",
       "LÊ E ESCREVE                      10\n",
       "Name: DS_GRAU_INSTRUCAO, dtype: int64"
      ]
     },
     "execution_count": 13,
     "metadata": {},
     "output_type": "execute_result"
    }
   ],
   "source": [
    "df_sjc['DS_GRAU_INSTRUCAO'].value_counts()"
   ]
  },
  {
   "cell_type": "code",
   "execution_count": 19,
   "metadata": {},
   "outputs": [
    {
     "data": {
      "text/plain": [
       "SUPERIOR COMPLETO                38.647343\n",
       "ENSINO MÉDIO COMPLETO            36.553945\n",
       "ENSINO FUNDAMENTAL COMPLETO       7.729469\n",
       "SUPERIOR INCOMPLETO               7.246377\n",
       "ENSINO FUNDAMENTAL INCOMPLETO     4.991948\n",
       "ENSINO MÉDIO INCOMPLETO           3.220612\n",
       "LÊ E ESCREVE                      1.610306\n",
       "Name: DS_GRAU_INSTRUCAO, dtype: float64"
      ]
     },
     "execution_count": 19,
     "metadata": {},
     "output_type": "execute_result"
    }
   ],
   "source": [
    "df_sjc['DS_GRAU_INSTRUCAO'].value_counts('DS_GRAU_INSTRUCAO') * 100"
   ]
  },
  {
   "cell_type": "code",
   "execution_count": null,
   "metadata": {},
   "outputs": [],
   "source": []
  }
 ],
 "metadata": {
  "kernelspec": {
   "display_name": "Python 3",
   "language": "python",
   "name": "python3"
  },
  "language_info": {
   "codemirror_mode": {
    "name": "ipython",
    "version": 3
   },
   "file_extension": ".py",
   "mimetype": "text/x-python",
   "name": "python",
   "nbconvert_exporter": "python",
   "pygments_lexer": "ipython3",
   "version": "3.7.3"
  }
 },
 "nbformat": 4,
 "nbformat_minor": 2
}
