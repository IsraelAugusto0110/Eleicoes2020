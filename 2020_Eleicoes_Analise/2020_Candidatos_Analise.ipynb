{
 "cells": [
  {
   "cell_type": "markdown",
   "metadata": {},
   "source": [
    "# Eleições 2020\n",
    "## Analise de dados dos candidatos a prefeito e vereador"
   ]
  },
  {
   "cell_type": "markdown",
   "metadata": {},
   "source": [
    "Este é um trabalho de análise de dados das eleições municipais de 2020, feito por aluno(s) Fatec - São josé dos campos, curso de Análise e Desenvolvimento de Sistemas para a disciplina de Estrutura de Dados do Profº Fernando Masanori.\n",
    "A fonte dos dados pode ser acessada em http://www.tse.jus.br/eleicoes/estatisticas/repositorio-de-dados-eleitorais-1\n",
    "O conteúdo desde notebook serve apenas para aprendizado e não deve ser utilizado para fins de propaganda politico-partidaria de qualquer natureza. "
   ]
  },
  {
   "cell_type": "code",
   "execution_count": 1,
   "metadata": {},
   "outputs": [],
   "source": [
    "import pandas as pd\n",
    "import requests\n",
    "import seaborn as sns\n",
    "import matplotlib.pyplot as plt\n",
    "%matplotlib inline"
   ]
  },
  {
   "cell_type": "markdown",
   "metadata": {},
   "source": [
    "O arquivo original tem 63 colunas, portanto usarei apenas aquelas que considerar relevantes"
   ]
  },
  {
   "cell_type": "code",
   "execution_count": 2,
   "metadata": {},
   "outputs": [
    {
     "data": {
      "text/plain": [
       "(93692, 13)"
      ]
     },
     "execution_count": 2,
     "metadata": {},
     "output_type": "execute_result"
    }
   ],
   "source": [
    "## importando os dados\n",
    "file = r'consulta_cand_2020_SP.csv'\n",
    "lst = ['DS_ELEICAO', 'SG_UF', 'NM_UE', 'DS_CARGO', 'DS_SITUACAO_CANDIDATURA', 'DS_DETALHE_SITUACAO_CAND', \n",
    "       'SG_PARTIDO', 'SG_UF_NASCIMENTO', 'NM_MUNICIPIO_NASCIMENTO', 'DS_GENERO', 'DS_GRAU_INSTRUCAO',\n",
    "       'DS_COR_RACA', 'DS_OCUPACAO']\n",
    "df = pd.read_csv(file, delimiter=';',usecols= lst, encoding='Latin 1')\n",
    "df.shape"
   ]
  },
  {
   "cell_type": "code",
   "execution_count": 3,
   "metadata": {
    "scrolled": false
   },
   "outputs": [
    {
     "name": "stdout",
     "output_type": "stream",
     "text": [
      "<class 'pandas.core.frame.DataFrame'>\n",
      "RangeIndex: 93692 entries, 0 to 93691\n",
      "Data columns (total 13 columns):\n",
      "DS_ELEICAO                  93692 non-null object\n",
      "SG_UF                       93692 non-null object\n",
      "NM_UE                       93692 non-null object\n",
      "DS_CARGO                    93692 non-null object\n",
      "DS_SITUACAO_CANDIDATURA     93692 non-null object\n",
      "DS_DETALHE_SITUACAO_CAND    93692 non-null object\n",
      "SG_PARTIDO                  93692 non-null object\n",
      "SG_UF_NASCIMENTO            93692 non-null object\n",
      "NM_MUNICIPIO_NASCIMENTO     93692 non-null object\n",
      "DS_GENERO                   93692 non-null object\n",
      "DS_GRAU_INSTRUCAO           93692 non-null object\n",
      "DS_COR_RACA                 93692 non-null object\n",
      "DS_OCUPACAO                 93692 non-null object\n",
      "dtypes: object(13)\n",
      "memory usage: 9.3+ MB\n"
     ]
    }
   ],
   "source": [
    "df.info()"
   ]
  },
  {
   "cell_type": "markdown",
   "metadata": {},
   "source": [
    "## Pergunta - Quem são os candidatos?"
   ]
  },
  {
   "cell_type": "markdown",
   "metadata": {},
   "source": [
    "Primeiramente irei utilizar o municipio de sjc como amostra, depois irei comparar com o resto do estado"
   ]
  },
  {
   "cell_type": "markdown",
   "metadata": {},
   "source": [
    "## Municipio de São José dos Campos"
   ]
  },
  {
   "cell_type": "code",
   "execution_count": 4,
   "metadata": {},
   "outputs": [
    {
     "data": {
      "text/plain": [
       "(621, 13)"
      ]
     },
     "execution_count": 4,
     "metadata": {},
     "output_type": "execute_result"
    }
   ],
   "source": [
    "df_sjc = df.query('NM_UE == \"SÃO JOSÉ DOS CAMPOS\"')\n",
    "df_sjc.shape"
   ]
  },
  {
   "cell_type": "code",
   "execution_count": 5,
   "metadata": {},
   "outputs": [
    {
     "data": {
      "text/html": [
       "<div>\n",
       "<style scoped>\n",
       "    .dataframe tbody tr th:only-of-type {\n",
       "        vertical-align: middle;\n",
       "    }\n",
       "\n",
       "    .dataframe tbody tr th {\n",
       "        vertical-align: top;\n",
       "    }\n",
       "\n",
       "    .dataframe thead th {\n",
       "        text-align: right;\n",
       "    }\n",
       "</style>\n",
       "<table border=\"1\" class=\"dataframe\">\n",
       "  <thead>\n",
       "    <tr style=\"text-align: right;\">\n",
       "      <th></th>\n",
       "      <th>DS_ELEICAO</th>\n",
       "      <th>SG_UF</th>\n",
       "      <th>NM_UE</th>\n",
       "      <th>DS_CARGO</th>\n",
       "      <th>DS_SITUACAO_CANDIDATURA</th>\n",
       "      <th>DS_DETALHE_SITUACAO_CAND</th>\n",
       "      <th>SG_PARTIDO</th>\n",
       "      <th>SG_UF_NASCIMENTO</th>\n",
       "      <th>NM_MUNICIPIO_NASCIMENTO</th>\n",
       "      <th>DS_GENERO</th>\n",
       "      <th>DS_GRAU_INSTRUCAO</th>\n",
       "      <th>DS_COR_RACA</th>\n",
       "      <th>DS_OCUPACAO</th>\n",
       "    </tr>\n",
       "  </thead>\n",
       "  <tbody>\n",
       "    <tr>\n",
       "      <th>count</th>\n",
       "      <td>621</td>\n",
       "      <td>621</td>\n",
       "      <td>621</td>\n",
       "      <td>621</td>\n",
       "      <td>621</td>\n",
       "      <td>621</td>\n",
       "      <td>621</td>\n",
       "      <td>621</td>\n",
       "      <td>621</td>\n",
       "      <td>621</td>\n",
       "      <td>621</td>\n",
       "      <td>621</td>\n",
       "      <td>621</td>\n",
       "    </tr>\n",
       "    <tr>\n",
       "      <th>unique</th>\n",
       "      <td>1</td>\n",
       "      <td>1</td>\n",
       "      <td>1</td>\n",
       "      <td>3</td>\n",
       "      <td>2</td>\n",
       "      <td>5</td>\n",
       "      <td>24</td>\n",
       "      <td>20</td>\n",
       "      <td>210</td>\n",
       "      <td>2</td>\n",
       "      <td>7</td>\n",
       "      <td>5</td>\n",
       "      <td>97</td>\n",
       "    </tr>\n",
       "    <tr>\n",
       "      <th>top</th>\n",
       "      <td>Eleições Municipais 2020</td>\n",
       "      <td>SP</td>\n",
       "      <td>SÃO JOSÉ DOS CAMPOS</td>\n",
       "      <td>VEREADOR</td>\n",
       "      <td>APTO</td>\n",
       "      <td>DEFERIDO</td>\n",
       "      <td>PT</td>\n",
       "      <td>SP</td>\n",
       "      <td>SÃO JOSÉ DOS CAMPOS</td>\n",
       "      <td>MASCULINO</td>\n",
       "      <td>SUPERIOR COMPLETO</td>\n",
       "      <td>BRANCA</td>\n",
       "      <td>OUTROS</td>\n",
       "    </tr>\n",
       "    <tr>\n",
       "      <th>freq</th>\n",
       "      <td>621</td>\n",
       "      <td>621</td>\n",
       "      <td>621</td>\n",
       "      <td>599</td>\n",
       "      <td>606</td>\n",
       "      <td>582</td>\n",
       "      <td>34</td>\n",
       "      <td>437</td>\n",
       "      <td>262</td>\n",
       "      <td>418</td>\n",
       "      <td>240</td>\n",
       "      <td>451</td>\n",
       "      <td>100</td>\n",
       "    </tr>\n",
       "  </tbody>\n",
       "</table>\n",
       "</div>"
      ],
      "text/plain": [
       "                      DS_ELEICAO SG_UF                NM_UE  DS_CARGO  \\\n",
       "count                        621   621                  621       621   \n",
       "unique                         1     1                    1         3   \n",
       "top     Eleições Municipais 2020    SP  SÃO JOSÉ DOS CAMPOS  VEREADOR   \n",
       "freq                         621   621                  621       599   \n",
       "\n",
       "       DS_SITUACAO_CANDIDATURA DS_DETALHE_SITUACAO_CAND SG_PARTIDO  \\\n",
       "count                      621                      621        621   \n",
       "unique                       2                        5         24   \n",
       "top                       APTO                 DEFERIDO         PT   \n",
       "freq                       606                      582         34   \n",
       "\n",
       "       SG_UF_NASCIMENTO NM_MUNICIPIO_NASCIMENTO  DS_GENERO  DS_GRAU_INSTRUCAO  \\\n",
       "count               621                     621        621                621   \n",
       "unique               20                     210          2                  7   \n",
       "top                  SP     SÃO JOSÉ DOS CAMPOS  MASCULINO  SUPERIOR COMPLETO   \n",
       "freq                437                     262        418                240   \n",
       "\n",
       "       DS_COR_RACA DS_OCUPACAO  \n",
       "count          621         621  \n",
       "unique           5          97  \n",
       "top         BRANCA      OUTROS  \n",
       "freq           451         100  "
      ]
     },
     "execution_count": 5,
     "metadata": {},
     "output_type": "execute_result"
    }
   ],
   "source": [
    "df_sjc.describe()"
   ]
  },
  {
   "cell_type": "markdown",
   "metadata": {},
   "source": [
    "Os partidos com mais candidatos pt, psdb, psl e psd, na maioria os candidatos são homens, muitos tem curso superior completo e são brancos"
   ]
  },
  {
   "cell_type": "code",
   "execution_count": 6,
   "metadata": {},
   "outputs": [
    {
     "data": {
      "text/html": [
       "<div>\n",
       "<style scoped>\n",
       "    .dataframe tbody tr th:only-of-type {\n",
       "        vertical-align: middle;\n",
       "    }\n",
       "\n",
       "    .dataframe tbody tr th {\n",
       "        vertical-align: top;\n",
       "    }\n",
       "\n",
       "    .dataframe thead th {\n",
       "        text-align: right;\n",
       "    }\n",
       "</style>\n",
       "<table border=\"1\" class=\"dataframe\">\n",
       "  <thead>\n",
       "    <tr style=\"text-align: right;\">\n",
       "      <th></th>\n",
       "      <th>DS_ELEICAO</th>\n",
       "      <th>SG_UF</th>\n",
       "      <th>NM_UE</th>\n",
       "      <th>DS_CARGO</th>\n",
       "      <th>DS_SITUACAO_CANDIDATURA</th>\n",
       "      <th>DS_DETALHE_SITUACAO_CAND</th>\n",
       "      <th>SG_PARTIDO</th>\n",
       "      <th>SG_UF_NASCIMENTO</th>\n",
       "      <th>NM_MUNICIPIO_NASCIMENTO</th>\n",
       "      <th>DS_GENERO</th>\n",
       "      <th>DS_GRAU_INSTRUCAO</th>\n",
       "      <th>DS_COR_RACA</th>\n",
       "      <th>DS_OCUPACAO</th>\n",
       "    </tr>\n",
       "  </thead>\n",
       "  <tbody>\n",
       "    <tr>\n",
       "      <th>61462</th>\n",
       "      <td>Eleições Municipais 2020</td>\n",
       "      <td>SP</td>\n",
       "      <td>SÃO JOSÉ DOS CAMPOS</td>\n",
       "      <td>VEREADOR</td>\n",
       "      <td>APTO</td>\n",
       "      <td>DEFERIDO</td>\n",
       "      <td>PSL</td>\n",
       "      <td>MG</td>\n",
       "      <td>CÓRREGO DO BOM JESUS</td>\n",
       "      <td>MASCULINO</td>\n",
       "      <td>ENSINO FUNDAMENTAL COMPLETO</td>\n",
       "      <td>BRANCA</td>\n",
       "      <td>VENDEDOR DE COMÉRCIO VAREJISTA E ATACADISTA</td>\n",
       "    </tr>\n",
       "    <tr>\n",
       "      <th>84953</th>\n",
       "      <td>Eleições Municipais 2020</td>\n",
       "      <td>SP</td>\n",
       "      <td>SÃO JOSÉ DOS CAMPOS</td>\n",
       "      <td>VEREADOR</td>\n",
       "      <td>APTO</td>\n",
       "      <td>DEFERIDO</td>\n",
       "      <td>AVANTE</td>\n",
       "      <td>SP</td>\n",
       "      <td>GUARATINGUETÁ</td>\n",
       "      <td>FEMININO</td>\n",
       "      <td>SUPERIOR INCOMPLETO</td>\n",
       "      <td>BRANCA</td>\n",
       "      <td>ENFERMEIRO</td>\n",
       "    </tr>\n",
       "    <tr>\n",
       "      <th>8635</th>\n",
       "      <td>Eleições Municipais 2020</td>\n",
       "      <td>SP</td>\n",
       "      <td>SÃO JOSÉ DOS CAMPOS</td>\n",
       "      <td>VEREADOR</td>\n",
       "      <td>APTO</td>\n",
       "      <td>DEFERIDO</td>\n",
       "      <td>PSL</td>\n",
       "      <td>SP</td>\n",
       "      <td>SÃO JOSÉ DOS CAMPOS</td>\n",
       "      <td>MASCULINO</td>\n",
       "      <td>SUPERIOR COMPLETO</td>\n",
       "      <td>BRANCA</td>\n",
       "      <td>SERVIDOR PÚBLICO MUNICIPAL</td>\n",
       "    </tr>\n",
       "    <tr>\n",
       "      <th>64726</th>\n",
       "      <td>Eleições Municipais 2020</td>\n",
       "      <td>SP</td>\n",
       "      <td>SÃO JOSÉ DOS CAMPOS</td>\n",
       "      <td>VEREADOR</td>\n",
       "      <td>APTO</td>\n",
       "      <td>DEFERIDO</td>\n",
       "      <td>PSDB</td>\n",
       "      <td>MG</td>\n",
       "      <td>POUSO ALTO</td>\n",
       "      <td>MASCULINO</td>\n",
       "      <td>SUPERIOR COMPLETO</td>\n",
       "      <td>BRANCA</td>\n",
       "      <td>ENGENHEIRO</td>\n",
       "    </tr>\n",
       "    <tr>\n",
       "      <th>84292</th>\n",
       "      <td>Eleições Municipais 2020</td>\n",
       "      <td>SP</td>\n",
       "      <td>SÃO JOSÉ DOS CAMPOS</td>\n",
       "      <td>VEREADOR</td>\n",
       "      <td>APTO</td>\n",
       "      <td>DEFERIDO</td>\n",
       "      <td>MDB</td>\n",
       "      <td>PR</td>\n",
       "      <td>FAXINAL</td>\n",
       "      <td>MASCULINO</td>\n",
       "      <td>ENSINO MÉDIO COMPLETO</td>\n",
       "      <td>BRANCA</td>\n",
       "      <td>SERVIDOR PÚBLICO MUNICIPAL</td>\n",
       "    </tr>\n",
       "  </tbody>\n",
       "</table>\n",
       "</div>"
      ],
      "text/plain": [
       "                     DS_ELEICAO SG_UF                NM_UE  DS_CARGO  \\\n",
       "61462  Eleições Municipais 2020    SP  SÃO JOSÉ DOS CAMPOS  VEREADOR   \n",
       "84953  Eleições Municipais 2020    SP  SÃO JOSÉ DOS CAMPOS  VEREADOR   \n",
       "8635   Eleições Municipais 2020    SP  SÃO JOSÉ DOS CAMPOS  VEREADOR   \n",
       "64726  Eleições Municipais 2020    SP  SÃO JOSÉ DOS CAMPOS  VEREADOR   \n",
       "84292  Eleições Municipais 2020    SP  SÃO JOSÉ DOS CAMPOS  VEREADOR   \n",
       "\n",
       "      DS_SITUACAO_CANDIDATURA DS_DETALHE_SITUACAO_CAND SG_PARTIDO  \\\n",
       "61462                    APTO                 DEFERIDO        PSL   \n",
       "84953                    APTO                 DEFERIDO     AVANTE   \n",
       "8635                     APTO                 DEFERIDO        PSL   \n",
       "64726                    APTO                 DEFERIDO       PSDB   \n",
       "84292                    APTO                 DEFERIDO        MDB   \n",
       "\n",
       "      SG_UF_NASCIMENTO NM_MUNICIPIO_NASCIMENTO  DS_GENERO  \\\n",
       "61462               MG    CÓRREGO DO BOM JESUS  MASCULINO   \n",
       "84953               SP           GUARATINGUETÁ   FEMININO   \n",
       "8635                SP     SÃO JOSÉ DOS CAMPOS  MASCULINO   \n",
       "64726               MG              POUSO ALTO  MASCULINO   \n",
       "84292               PR                 FAXINAL  MASCULINO   \n",
       "\n",
       "                 DS_GRAU_INSTRUCAO DS_COR_RACA  \\\n",
       "61462  ENSINO FUNDAMENTAL COMPLETO      BRANCA   \n",
       "84953          SUPERIOR INCOMPLETO      BRANCA   \n",
       "8635             SUPERIOR COMPLETO      BRANCA   \n",
       "64726            SUPERIOR COMPLETO      BRANCA   \n",
       "84292        ENSINO MÉDIO COMPLETO      BRANCA   \n",
       "\n",
       "                                       DS_OCUPACAO  \n",
       "61462  VENDEDOR DE COMÉRCIO VAREJISTA E ATACADISTA  \n",
       "84953                                   ENFERMEIRO  \n",
       "8635                    SERVIDOR PÚBLICO MUNICIPAL  \n",
       "64726                                   ENGENHEIRO  \n",
       "84292                   SERVIDOR PÚBLICO MUNICIPAL  "
      ]
     },
     "execution_count": 6,
     "metadata": {},
     "output_type": "execute_result"
    }
   ],
   "source": [
    "df_sjc.sample(5)"
   ]
  },
  {
   "cell_type": "code",
   "execution_count": 7,
   "metadata": {},
   "outputs": [
    {
     "data": {
      "text/html": [
       "<div>\n",
       "<style scoped>\n",
       "    .dataframe tbody tr th:only-of-type {\n",
       "        vertical-align: middle;\n",
       "    }\n",
       "\n",
       "    .dataframe tbody tr th {\n",
       "        vertical-align: top;\n",
       "    }\n",
       "\n",
       "    .dataframe thead th {\n",
       "        text-align: right;\n",
       "    }\n",
       "</style>\n",
       "<table border=\"1\" class=\"dataframe\">\n",
       "  <thead>\n",
       "    <tr style=\"text-align: right;\">\n",
       "      <th></th>\n",
       "      <th>DS_ELEICAO</th>\n",
       "      <th>SG_UF</th>\n",
       "      <th>NM_UE</th>\n",
       "      <th>DS_CARGO</th>\n",
       "      <th>DS_SITUACAO_CANDIDATURA</th>\n",
       "      <th>DS_DETALHE_SITUACAO_CAND</th>\n",
       "      <th>SG_PARTIDO</th>\n",
       "      <th>SG_UF_NASCIMENTO</th>\n",
       "      <th>NM_MUNICIPIO_NASCIMENTO</th>\n",
       "      <th>DS_GENERO</th>\n",
       "      <th>DS_GRAU_INSTRUCAO</th>\n",
       "      <th>DS_COR_RACA</th>\n",
       "      <th>DS_OCUPACAO</th>\n",
       "    </tr>\n",
       "  </thead>\n",
       "  <tbody>\n",
       "    <tr>\n",
       "      <th>593</th>\n",
       "      <td>Eleições Municipais 2020</td>\n",
       "      <td>SP</td>\n",
       "      <td>SÃO JOSÉ DOS CAMPOS</td>\n",
       "      <td>PREFEITO</td>\n",
       "      <td>APTO</td>\n",
       "      <td>DEFERIDO</td>\n",
       "      <td>PSL</td>\n",
       "      <td>SP</td>\n",
       "      <td>APARECIDA</td>\n",
       "      <td>MASCULINO</td>\n",
       "      <td>SUPERIOR COMPLETO</td>\n",
       "      <td>BRANCA</td>\n",
       "      <td>ADMINISTRADOR</td>\n",
       "    </tr>\n",
       "    <tr>\n",
       "      <th>22681</th>\n",
       "      <td>Eleições Municipais 2020</td>\n",
       "      <td>SP</td>\n",
       "      <td>SÃO JOSÉ DOS CAMPOS</td>\n",
       "      <td>PREFEITO</td>\n",
       "      <td>APTO</td>\n",
       "      <td>DEFERIDO</td>\n",
       "      <td>PL</td>\n",
       "      <td>SP</td>\n",
       "      <td>SÃO PAULO</td>\n",
       "      <td>FEMININO</td>\n",
       "      <td>SUPERIOR COMPLETO</td>\n",
       "      <td>BRANCA</td>\n",
       "      <td>POLICIAL MILITAR</td>\n",
       "    </tr>\n",
       "    <tr>\n",
       "      <th>28479</th>\n",
       "      <td>Eleições Municipais 2020</td>\n",
       "      <td>SP</td>\n",
       "      <td>SÃO JOSÉ DOS CAMPOS</td>\n",
       "      <td>PREFEITO</td>\n",
       "      <td>APTO</td>\n",
       "      <td>DEFERIDO</td>\n",
       "      <td>PSB</td>\n",
       "      <td>SP</td>\n",
       "      <td>SÃO PAULO</td>\n",
       "      <td>MASCULINO</td>\n",
       "      <td>SUPERIOR COMPLETO</td>\n",
       "      <td>BRANCA</td>\n",
       "      <td>MÉDICO</td>\n",
       "    </tr>\n",
       "    <tr>\n",
       "      <th>32239</th>\n",
       "      <td>Eleições Municipais 2020</td>\n",
       "      <td>SP</td>\n",
       "      <td>SÃO JOSÉ DOS CAMPOS</td>\n",
       "      <td>PREFEITO</td>\n",
       "      <td>APTO</td>\n",
       "      <td>DEFERIDO</td>\n",
       "      <td>PC do B</td>\n",
       "      <td>SP</td>\n",
       "      <td>CRUZEIRO</td>\n",
       "      <td>MASCULINO</td>\n",
       "      <td>SUPERIOR COMPLETO</td>\n",
       "      <td>PRETA</td>\n",
       "      <td>APOSENTADO (EXCETO SERVIDOR PÚBLICO)</td>\n",
       "    </tr>\n",
       "    <tr>\n",
       "      <th>33548</th>\n",
       "      <td>Eleições Municipais 2020</td>\n",
       "      <td>SP</td>\n",
       "      <td>SÃO JOSÉ DOS CAMPOS</td>\n",
       "      <td>PREFEITO</td>\n",
       "      <td>APTO</td>\n",
       "      <td>DEFERIDO</td>\n",
       "      <td>PTC</td>\n",
       "      <td>SP</td>\n",
       "      <td>SERTÃOZINHO</td>\n",
       "      <td>MASCULINO</td>\n",
       "      <td>SUPERIOR COMPLETO</td>\n",
       "      <td>BRANCA</td>\n",
       "      <td>ADMINISTRADOR</td>\n",
       "    </tr>\n",
       "    <tr>\n",
       "      <th>45254</th>\n",
       "      <td>Eleições Municipais 2020</td>\n",
       "      <td>SP</td>\n",
       "      <td>SÃO JOSÉ DOS CAMPOS</td>\n",
       "      <td>PREFEITO</td>\n",
       "      <td>APTO</td>\n",
       "      <td>DEFERIDO</td>\n",
       "      <td>PSOL</td>\n",
       "      <td>SP</td>\n",
       "      <td>SÃO PAULO</td>\n",
       "      <td>FEMININO</td>\n",
       "      <td>ENSINO MÉDIO COMPLETO</td>\n",
       "      <td>BRANCA</td>\n",
       "      <td>ELETRICISTA E ASSEMELHADOS</td>\n",
       "    </tr>\n",
       "    <tr>\n",
       "      <th>52462</th>\n",
       "      <td>Eleições Municipais 2020</td>\n",
       "      <td>SP</td>\n",
       "      <td>SÃO JOSÉ DOS CAMPOS</td>\n",
       "      <td>PREFEITO</td>\n",
       "      <td>APTO</td>\n",
       "      <td>DEFERIDO</td>\n",
       "      <td>NOVO</td>\n",
       "      <td>RO</td>\n",
       "      <td>PORTO VELHO</td>\n",
       "      <td>MASCULINO</td>\n",
       "      <td>SUPERIOR COMPLETO</td>\n",
       "      <td>PARDA</td>\n",
       "      <td>PROFESSOR DE ENSINO SUPERIOR</td>\n",
       "    </tr>\n",
       "    <tr>\n",
       "      <th>61593</th>\n",
       "      <td>Eleições Municipais 2020</td>\n",
       "      <td>SP</td>\n",
       "      <td>SÃO JOSÉ DOS CAMPOS</td>\n",
       "      <td>PREFEITO</td>\n",
       "      <td>APTO</td>\n",
       "      <td>DEFERIDO</td>\n",
       "      <td>PSD</td>\n",
       "      <td>SP</td>\n",
       "      <td>TAUBATÉ</td>\n",
       "      <td>FEMININO</td>\n",
       "      <td>SUPERIOR COMPLETO</td>\n",
       "      <td>BRANCA</td>\n",
       "      <td>ADVOGADO</td>\n",
       "    </tr>\n",
       "    <tr>\n",
       "      <th>70808</th>\n",
       "      <td>Eleições Municipais 2020</td>\n",
       "      <td>SP</td>\n",
       "      <td>SÃO JOSÉ DOS CAMPOS</td>\n",
       "      <td>PREFEITO</td>\n",
       "      <td>APTO</td>\n",
       "      <td>DEFERIDO</td>\n",
       "      <td>PSDB</td>\n",
       "      <td>SP</td>\n",
       "      <td>SÃO PAULO</td>\n",
       "      <td>MASCULINO</td>\n",
       "      <td>SUPERIOR COMPLETO</td>\n",
       "      <td>BRANCA</td>\n",
       "      <td>PREFEITO</td>\n",
       "    </tr>\n",
       "    <tr>\n",
       "      <th>85011</th>\n",
       "      <td>Eleições Municipais 2020</td>\n",
       "      <td>SP</td>\n",
       "      <td>SÃO JOSÉ DOS CAMPOS</td>\n",
       "      <td>PREFEITO</td>\n",
       "      <td>APTO</td>\n",
       "      <td>DEFERIDO</td>\n",
       "      <td>PT</td>\n",
       "      <td>SP</td>\n",
       "      <td>SÃO JOSÉ DOS CAMPOS</td>\n",
       "      <td>MASCULINO</td>\n",
       "      <td>SUPERIOR COMPLETO</td>\n",
       "      <td>BRANCA</td>\n",
       "      <td>VEREADOR</td>\n",
       "    </tr>\n",
       "    <tr>\n",
       "      <th>85469</th>\n",
       "      <td>Eleições Municipais 2020</td>\n",
       "      <td>SP</td>\n",
       "      <td>SÃO JOSÉ DOS CAMPOS</td>\n",
       "      <td>PREFEITO</td>\n",
       "      <td>APTO</td>\n",
       "      <td>DEFERIDO</td>\n",
       "      <td>PSTU</td>\n",
       "      <td>MG</td>\n",
       "      <td>TRÊS PONTAS</td>\n",
       "      <td>FEMININO</td>\n",
       "      <td>ENSINO MÉDIO COMPLETO</td>\n",
       "      <td>PRETA</td>\n",
       "      <td>AGENTE POSTAL</td>\n",
       "    </tr>\n",
       "  </tbody>\n",
       "</table>\n",
       "</div>"
      ],
      "text/plain": [
       "                     DS_ELEICAO SG_UF                NM_UE  DS_CARGO  \\\n",
       "593    Eleições Municipais 2020    SP  SÃO JOSÉ DOS CAMPOS  PREFEITO   \n",
       "22681  Eleições Municipais 2020    SP  SÃO JOSÉ DOS CAMPOS  PREFEITO   \n",
       "28479  Eleições Municipais 2020    SP  SÃO JOSÉ DOS CAMPOS  PREFEITO   \n",
       "32239  Eleições Municipais 2020    SP  SÃO JOSÉ DOS CAMPOS  PREFEITO   \n",
       "33548  Eleições Municipais 2020    SP  SÃO JOSÉ DOS CAMPOS  PREFEITO   \n",
       "45254  Eleições Municipais 2020    SP  SÃO JOSÉ DOS CAMPOS  PREFEITO   \n",
       "52462  Eleições Municipais 2020    SP  SÃO JOSÉ DOS CAMPOS  PREFEITO   \n",
       "61593  Eleições Municipais 2020    SP  SÃO JOSÉ DOS CAMPOS  PREFEITO   \n",
       "70808  Eleições Municipais 2020    SP  SÃO JOSÉ DOS CAMPOS  PREFEITO   \n",
       "85011  Eleições Municipais 2020    SP  SÃO JOSÉ DOS CAMPOS  PREFEITO   \n",
       "85469  Eleições Municipais 2020    SP  SÃO JOSÉ DOS CAMPOS  PREFEITO   \n",
       "\n",
       "      DS_SITUACAO_CANDIDATURA DS_DETALHE_SITUACAO_CAND SG_PARTIDO  \\\n",
       "593                      APTO                 DEFERIDO        PSL   \n",
       "22681                    APTO                 DEFERIDO         PL   \n",
       "28479                    APTO                 DEFERIDO        PSB   \n",
       "32239                    APTO                 DEFERIDO    PC do B   \n",
       "33548                    APTO                 DEFERIDO        PTC   \n",
       "45254                    APTO                 DEFERIDO       PSOL   \n",
       "52462                    APTO                 DEFERIDO       NOVO   \n",
       "61593                    APTO                 DEFERIDO        PSD   \n",
       "70808                    APTO                 DEFERIDO       PSDB   \n",
       "85011                    APTO                 DEFERIDO         PT   \n",
       "85469                    APTO                 DEFERIDO       PSTU   \n",
       "\n",
       "      SG_UF_NASCIMENTO NM_MUNICIPIO_NASCIMENTO  DS_GENERO  \\\n",
       "593                 SP               APARECIDA  MASCULINO   \n",
       "22681               SP               SÃO PAULO   FEMININO   \n",
       "28479               SP               SÃO PAULO  MASCULINO   \n",
       "32239               SP                CRUZEIRO  MASCULINO   \n",
       "33548               SP             SERTÃOZINHO  MASCULINO   \n",
       "45254               SP               SÃO PAULO   FEMININO   \n",
       "52462               RO             PORTO VELHO  MASCULINO   \n",
       "61593               SP                 TAUBATÉ   FEMININO   \n",
       "70808               SP               SÃO PAULO  MASCULINO   \n",
       "85011               SP     SÃO JOSÉ DOS CAMPOS  MASCULINO   \n",
       "85469               MG             TRÊS PONTAS   FEMININO   \n",
       "\n",
       "           DS_GRAU_INSTRUCAO DS_COR_RACA                           DS_OCUPACAO  \n",
       "593        SUPERIOR COMPLETO      BRANCA                         ADMINISTRADOR  \n",
       "22681      SUPERIOR COMPLETO      BRANCA                      POLICIAL MILITAR  \n",
       "28479      SUPERIOR COMPLETO      BRANCA                                MÉDICO  \n",
       "32239      SUPERIOR COMPLETO       PRETA  APOSENTADO (EXCETO SERVIDOR PÚBLICO)  \n",
       "33548      SUPERIOR COMPLETO      BRANCA                         ADMINISTRADOR  \n",
       "45254  ENSINO MÉDIO COMPLETO      BRANCA            ELETRICISTA E ASSEMELHADOS  \n",
       "52462      SUPERIOR COMPLETO       PARDA          PROFESSOR DE ENSINO SUPERIOR  \n",
       "61593      SUPERIOR COMPLETO      BRANCA                              ADVOGADO  \n",
       "70808      SUPERIOR COMPLETO      BRANCA                              PREFEITO  \n",
       "85011      SUPERIOR COMPLETO      BRANCA                              VEREADOR  \n",
       "85469  ENSINO MÉDIO COMPLETO       PRETA                         AGENTE POSTAL  "
      ]
     },
     "execution_count": 7,
     "metadata": {},
     "output_type": "execute_result"
    }
   ],
   "source": [
    "df_sjc.query('DS_CARGO == \"PREFEITO\"')"
   ]
  },
  {
   "cell_type": "code",
   "execution_count": 8,
   "metadata": {},
   "outputs": [
    {
     "data": {
      "text/plain": [
       "VEREADOR         599\n",
       "VICE-PREFEITO     11\n",
       "PREFEITO          11\n",
       "Name: DS_CARGO, dtype: int64"
      ]
     },
     "execution_count": 8,
     "metadata": {},
     "output_type": "execute_result"
    }
   ],
   "source": [
    "df_sjc['DS_CARGO'].value_counts()"
   ]
  },
  {
   "cell_type": "markdown",
   "metadata": {},
   "source": [
    "### Proporção de generos em geral"
   ]
  },
  {
   "cell_type": "code",
   "execution_count": 9,
   "metadata": {
    "scrolled": true
   },
   "outputs": [
    {
     "data": {
      "text/plain": [
       "MASCULINO    418\n",
       "FEMININO     203\n",
       "Name: DS_GENERO, dtype: int64"
      ]
     },
     "execution_count": 9,
     "metadata": {},
     "output_type": "execute_result"
    }
   ],
   "source": [
    "df_sjc['DS_GENERO'].value_counts()"
   ]
  },
  {
   "cell_type": "code",
   "execution_count": 10,
   "metadata": {
    "scrolled": true
   },
   "outputs": [
    {
     "data": {
      "text/plain": [
       "<matplotlib.axes._subplots.AxesSubplot at 0x6498b8ec50>"
      ]
     },
     "execution_count": 10,
     "metadata": {},
     "output_type": "execute_result"
    },
    {
     "data": {
      "image/png": "[encoded data removed]",
      "text/plain": [
       "<Figure size 432x288 with 1 Axes>"
      ]
     },
     "metadata": {
      "needs_background": "light"
     },
     "output_type": "display_data"
    }
   ],
   "source": [
    "(df_sjc['DS_GENERO'].value_counts('DS_GENERO')*100).plot.bar(title='Candidatos por genero em %')"
   ]
  },
  {
   "cell_type": "markdown",
   "metadata": {},
   "source": [
    "### Grau de escolaridade"
   ]
  },
  {
   "cell_type": "code",
   "execution_count": 11,
   "metadata": {},
   "outputs": [
    {
     "data": {
      "text/plain": [
       "SUPERIOR COMPLETO                240\n",
       "ENSINO MÉDIO COMPLETO            227\n",
       "ENSINO FUNDAMENTAL COMPLETO       48\n",
       "SUPERIOR INCOMPLETO               45\n",
       "ENSINO FUNDAMENTAL INCOMPLETO     31\n",
       "ENSINO MÉDIO INCOMPLETO           20\n",
       "LÊ E ESCREVE                      10\n",
       "Name: DS_GRAU_INSTRUCAO, dtype: int64"
      ]
     },
     "execution_count": 11,
     "metadata": {},
     "output_type": "execute_result"
    }
   ],
   "source": [
    "df_sjc['DS_GRAU_INSTRUCAO'].value_counts()"
   ]
  },
  {
   "cell_type": "code",
   "execution_count": 12,
   "metadata": {
    "scrolled": true
   },
   "outputs": [
    {
     "data": {
      "text/plain": [
       "<matplotlib.axes._subplots.AxesSubplot at 0x6498c5b4e0>"
      ]
     },
     "execution_count": 12,
     "metadata": {},
     "output_type": "execute_result"
    },
    {
     "data": {
      "image/png": "[encoded data removed]",
      "text/plain": [
       "<Figure size 432x288 with 1 Axes>"
      ]
     },
     "metadata": {
      "needs_background": "light"
     },
     "output_type": "display_data"
    }
   ],
   "source": [
    "(df_sjc['DS_GRAU_INSTRUCAO'].value_counts('DS_GRAU_INSTRUCAO', \n",
    "                                          ascending=True) * 100).plot.barh(title='Nivel de escolaridade em %')"
   ]
  },
  {
   "cell_type": "code",
   "execution_count": 13,
   "metadata": {
    "scrolled": true
   },
   "outputs": [
    {
     "data": {
      "text/plain": [
       "APTO      606\n",
       "INAPTO     15\n",
       "Name: DS_SITUACAO_CANDIDATURA, dtype: int64"
      ]
     },
     "execution_count": 13,
     "metadata": {},
     "output_type": "execute_result"
    }
   ],
   "source": [
    "df_sjc['DS_SITUACAO_CANDIDATURA'].value_counts()"
   ]
  },
  {
   "cell_type": "code",
   "execution_count": 14,
   "metadata": {
    "scrolled": true
   },
   "outputs": [
    {
     "data": {
      "text/plain": [
       "DEFERIDO                  582\n",
       "INDEFERIDO COM RECURSO     22\n",
       "INDEFERIDO                  9\n",
       "RENÚNCIA                    6\n",
       "DEFERIDO COM RECURSO        2\n",
       "Name: DS_DETALHE_SITUACAO_CAND, dtype: int64"
      ]
     },
     "execution_count": 14,
     "metadata": {},
     "output_type": "execute_result"
    }
   ],
   "source": [
    "df_sjc['DS_DETALHE_SITUACAO_CAND'].value_counts()"
   ]
  },
  {
   "cell_type": "markdown",
   "metadata": {},
   "source": [
    "### Por cor"
   ]
  },
  {
   "cell_type": "code",
   "execution_count": 15,
   "metadata": {},
   "outputs": [
    {
     "data": {
      "text/plain": [
       "BRANCA      451\n",
       "PARDA        97\n",
       "PRETA        67\n",
       "AMARELA       5\n",
       "INDÍGENA      1\n",
       "Name: DS_COR_RACA, dtype: int64"
      ]
     },
     "execution_count": 15,
     "metadata": {},
     "output_type": "execute_result"
    }
   ],
   "source": [
    "df_sjc['DS_COR_RACA'].value_counts()"
   ]
  },
  {
   "cell_type": "code",
   "execution_count": 16,
   "metadata": {
    "scrolled": false
   },
   "outputs": [
    {
     "data": {
      "text/plain": [
       "<matplotlib.axes._subplots.AxesSubplot at 0x6498d0c6a0>"
      ]
     },
     "execution_count": 16,
     "metadata": {},
     "output_type": "execute_result"
    },
    {
     "data": {
      "image/png": "[encoded data removed]",
      "text/plain": [
       "<Figure size 432x288 with 1 Axes>"
      ]
     },
     "metadata": {
      "needs_background": "light"
     },
     "output_type": "display_data"
    }
   ],
   "source": [
    "(df_sjc['DS_COR_RACA'].value_counts('DS_COR_RACA', \n",
    "                                          ascending=True) * 100).plot.barh(title='DS_COR_RACA em %')"
   ]
  },
  {
   "cell_type": "code",
   "execution_count": null,
   "metadata": {},
   "outputs": [],
   "source": []
  },
  {
   "cell_type": "markdown",
   "metadata": {},
   "source": [
    "## No estado de São Paulo"
   ]
  },
  {
   "cell_type": "code",
   "execution_count": 17,
   "metadata": {},
   "outputs": [
    {
     "data": {
      "text/plain": [
       "DS_ELEICAO                  0\n",
       "SG_UF                       0\n",
       "NM_UE                       0\n",
       "DS_CARGO                    0\n",
       "DS_SITUACAO_CANDIDATURA     0\n",
       "DS_DETALHE_SITUACAO_CAND    0\n",
       "SG_PARTIDO                  0\n",
       "SG_UF_NASCIMENTO            0\n",
       "NM_MUNICIPIO_NASCIMENTO     0\n",
       "DS_GENERO                   0\n",
       "DS_GRAU_INSTRUCAO           0\n",
       "DS_COR_RACA                 0\n",
       "DS_OCUPACAO                 0\n",
       "dtype: int64"
      ]
     },
     "execution_count": 17,
     "metadata": {},
     "output_type": "execute_result"
    }
   ],
   "source": [
    "df.isnull().sum()"
   ]
  },
  {
   "cell_type": "code",
   "execution_count": 18,
   "metadata": {},
   "outputs": [
    {
     "data": {
      "text/html": [
       "<div>\n",
       "<style scoped>\n",
       "    .dataframe tbody tr th:only-of-type {\n",
       "        vertical-align: middle;\n",
       "    }\n",
       "\n",
       "    .dataframe tbody tr th {\n",
       "        vertical-align: top;\n",
       "    }\n",
       "\n",
       "    .dataframe thead th {\n",
       "        text-align: right;\n",
       "    }\n",
       "</style>\n",
       "<table border=\"1\" class=\"dataframe\">\n",
       "  <thead>\n",
       "    <tr style=\"text-align: right;\">\n",
       "      <th></th>\n",
       "      <th>DS_ELEICAO</th>\n",
       "      <th>SG_UF</th>\n",
       "      <th>NM_UE</th>\n",
       "      <th>DS_CARGO</th>\n",
       "      <th>DS_SITUACAO_CANDIDATURA</th>\n",
       "      <th>DS_DETALHE_SITUACAO_CAND</th>\n",
       "      <th>SG_PARTIDO</th>\n",
       "      <th>SG_UF_NASCIMENTO</th>\n",
       "      <th>NM_MUNICIPIO_NASCIMENTO</th>\n",
       "      <th>DS_GENERO</th>\n",
       "      <th>DS_GRAU_INSTRUCAO</th>\n",
       "      <th>DS_COR_RACA</th>\n",
       "      <th>DS_OCUPACAO</th>\n",
       "    </tr>\n",
       "  </thead>\n",
       "  <tbody>\n",
       "    <tr>\n",
       "      <th>32806</th>\n",
       "      <td>Eleições Municipais 2020</td>\n",
       "      <td>SP</td>\n",
       "      <td>BOCAINA</td>\n",
       "      <td>VEREADOR</td>\n",
       "      <td>APTO</td>\n",
       "      <td>DEFERIDO</td>\n",
       "      <td>CIDADANIA</td>\n",
       "      <td>SP</td>\n",
       "      <td>JAÚ</td>\n",
       "      <td>MASCULINO</td>\n",
       "      <td>ENSINO FUNDAMENTAL INCOMPLETO</td>\n",
       "      <td>BRANCA</td>\n",
       "      <td>SERVIDOR PÚBLICO MUNICIPAL</td>\n",
       "    </tr>\n",
       "    <tr>\n",
       "      <th>32430</th>\n",
       "      <td>Eleições Municipais 2020</td>\n",
       "      <td>SP</td>\n",
       "      <td>SÃO PEDRO DO TURVO</td>\n",
       "      <td>VEREADOR</td>\n",
       "      <td>APTO</td>\n",
       "      <td>DEFERIDO</td>\n",
       "      <td>REPUBLICANOS</td>\n",
       "      <td>SP</td>\n",
       "      <td>IBIRAREMA</td>\n",
       "      <td>FEMININO</td>\n",
       "      <td>ENSINO FUNDAMENTAL COMPLETO</td>\n",
       "      <td>BRANCA</td>\n",
       "      <td>DONA DE CASA</td>\n",
       "    </tr>\n",
       "    <tr>\n",
       "      <th>60598</th>\n",
       "      <td>Eleições Municipais 2020</td>\n",
       "      <td>SP</td>\n",
       "      <td>BOITUVA</td>\n",
       "      <td>VEREADOR</td>\n",
       "      <td>APTO</td>\n",
       "      <td>DEFERIDO</td>\n",
       "      <td>REPUBLICANOS</td>\n",
       "      <td>BA</td>\n",
       "      <td>ITABUNA</td>\n",
       "      <td>MASCULINO</td>\n",
       "      <td>ENSINO MÉDIO COMPLETO</td>\n",
       "      <td>PRETA</td>\n",
       "      <td>TÉCNICO DE QUÍMICA</td>\n",
       "    </tr>\n",
       "    <tr>\n",
       "      <th>57485</th>\n",
       "      <td>Eleições Municipais 2020</td>\n",
       "      <td>SP</td>\n",
       "      <td>PEDRANÓPOLIS</td>\n",
       "      <td>VEREADOR</td>\n",
       "      <td>APTO</td>\n",
       "      <td>DEFERIDO</td>\n",
       "      <td>SOLIDARIEDADE</td>\n",
       "      <td>SP</td>\n",
       "      <td>FERNANDÓPOLIS</td>\n",
       "      <td>FEMININO</td>\n",
       "      <td>ENSINO MÉDIO COMPLETO</td>\n",
       "      <td>BRANCA</td>\n",
       "      <td>VENDEDOR PRACISTA, REPRESENTANTE, CAIXEIRO-VIA...</td>\n",
       "    </tr>\n",
       "    <tr>\n",
       "      <th>59748</th>\n",
       "      <td>Eleições Municipais 2020</td>\n",
       "      <td>SP</td>\n",
       "      <td>PEDREIRA</td>\n",
       "      <td>VEREADOR</td>\n",
       "      <td>APTO</td>\n",
       "      <td>DEFERIDO</td>\n",
       "      <td>PATRIOTA</td>\n",
       "      <td>SP</td>\n",
       "      <td>PEDREIRA</td>\n",
       "      <td>MASCULINO</td>\n",
       "      <td>ENSINO MÉDIO COMPLETO</td>\n",
       "      <td>PARDA</td>\n",
       "      <td>CORRETOR DE IMÓVEIS, SEGUROS, TÍTULOS E VALORES</td>\n",
       "    </tr>\n",
       "  </tbody>\n",
       "</table>\n",
       "</div>"
      ],
      "text/plain": [
       "                     DS_ELEICAO SG_UF               NM_UE  DS_CARGO  \\\n",
       "32806  Eleições Municipais 2020    SP             BOCAINA  VEREADOR   \n",
       "32430  Eleições Municipais 2020    SP  SÃO PEDRO DO TURVO  VEREADOR   \n",
       "60598  Eleições Municipais 2020    SP             BOITUVA  VEREADOR   \n",
       "57485  Eleições Municipais 2020    SP        PEDRANÓPOLIS  VEREADOR   \n",
       "59748  Eleições Municipais 2020    SP            PEDREIRA  VEREADOR   \n",
       "\n",
       "      DS_SITUACAO_CANDIDATURA DS_DETALHE_SITUACAO_CAND     SG_PARTIDO  \\\n",
       "32806                    APTO                 DEFERIDO      CIDADANIA   \n",
       "32430                    APTO                 DEFERIDO   REPUBLICANOS   \n",
       "60598                    APTO                 DEFERIDO   REPUBLICANOS   \n",
       "57485                    APTO                 DEFERIDO  SOLIDARIEDADE   \n",
       "59748                    APTO                 DEFERIDO       PATRIOTA   \n",
       "\n",
       "      SG_UF_NASCIMENTO NM_MUNICIPIO_NASCIMENTO  DS_GENERO  \\\n",
       "32806               SP                     JAÚ  MASCULINO   \n",
       "32430               SP               IBIRAREMA   FEMININO   \n",
       "60598               BA                 ITABUNA  MASCULINO   \n",
       "57485               SP           FERNANDÓPOLIS   FEMININO   \n",
       "59748               SP                PEDREIRA  MASCULINO   \n",
       "\n",
       "                   DS_GRAU_INSTRUCAO DS_COR_RACA  \\\n",
       "32806  ENSINO FUNDAMENTAL INCOMPLETO      BRANCA   \n",
       "32430    ENSINO FUNDAMENTAL COMPLETO      BRANCA   \n",
       "60598          ENSINO MÉDIO COMPLETO       PRETA   \n",
       "57485          ENSINO MÉDIO COMPLETO      BRANCA   \n",
       "59748          ENSINO MÉDIO COMPLETO       PARDA   \n",
       "\n",
       "                                             DS_OCUPACAO  \n",
       "32806                         SERVIDOR PÚBLICO MUNICIPAL  \n",
       "32430                                       DONA DE CASA  \n",
       "60598                                 TÉCNICO DE QUÍMICA  \n",
       "57485  VENDEDOR PRACISTA, REPRESENTANTE, CAIXEIRO-VIA...  \n",
       "59748    CORRETOR DE IMÓVEIS, SEGUROS, TÍTULOS E VALORES  "
      ]
     },
     "execution_count": 18,
     "metadata": {},
     "output_type": "execute_result"
    }
   ],
   "source": [
    "df.sample(5)"
   ]
  },
  {
   "cell_type": "code",
   "execution_count": 19,
   "metadata": {},
   "outputs": [
    {
     "data": {
      "text/html": [
       "<div>\n",
       "<style scoped>\n",
       "    .dataframe tbody tr th:only-of-type {\n",
       "        vertical-align: middle;\n",
       "    }\n",
       "\n",
       "    .dataframe tbody tr th {\n",
       "        vertical-align: top;\n",
       "    }\n",
       "\n",
       "    .dataframe thead th {\n",
       "        text-align: right;\n",
       "    }\n",
       "</style>\n",
       "<table border=\"1\" class=\"dataframe\">\n",
       "  <thead>\n",
       "    <tr style=\"text-align: right;\">\n",
       "      <th></th>\n",
       "      <th>DS_ELEICAO</th>\n",
       "      <th>SG_UF</th>\n",
       "      <th>NM_UE</th>\n",
       "      <th>DS_CARGO</th>\n",
       "      <th>DS_SITUACAO_CANDIDATURA</th>\n",
       "      <th>DS_DETALHE_SITUACAO_CAND</th>\n",
       "      <th>SG_PARTIDO</th>\n",
       "      <th>SG_UF_NASCIMENTO</th>\n",
       "      <th>NM_MUNICIPIO_NASCIMENTO</th>\n",
       "      <th>DS_GENERO</th>\n",
       "      <th>DS_GRAU_INSTRUCAO</th>\n",
       "      <th>DS_COR_RACA</th>\n",
       "      <th>DS_OCUPACAO</th>\n",
       "    </tr>\n",
       "  </thead>\n",
       "  <tbody>\n",
       "    <tr>\n",
       "      <th>count</th>\n",
       "      <td>93692</td>\n",
       "      <td>93692</td>\n",
       "      <td>93692</td>\n",
       "      <td>93692</td>\n",
       "      <td>93692</td>\n",
       "      <td>93692</td>\n",
       "      <td>93692</td>\n",
       "      <td>93692</td>\n",
       "      <td>93692</td>\n",
       "      <td>93692</td>\n",
       "      <td>93692</td>\n",
       "      <td>93692</td>\n",
       "      <td>93692</td>\n",
       "    </tr>\n",
       "    <tr>\n",
       "      <th>unique</th>\n",
       "      <td>1</td>\n",
       "      <td>1</td>\n",
       "      <td>645</td>\n",
       "      <td>3</td>\n",
       "      <td>3</td>\n",
       "      <td>11</td>\n",
       "      <td>33</td>\n",
       "      <td>28</td>\n",
       "      <td>3182</td>\n",
       "      <td>2</td>\n",
       "      <td>8</td>\n",
       "      <td>6</td>\n",
       "      <td>229</td>\n",
       "    </tr>\n",
       "    <tr>\n",
       "      <th>top</th>\n",
       "      <td>Eleições Municipais 2020</td>\n",
       "      <td>SP</td>\n",
       "      <td>SÃO PAULO</td>\n",
       "      <td>VEREADOR</td>\n",
       "      <td>APTO</td>\n",
       "      <td>DEFERIDO</td>\n",
       "      <td>PSDB</td>\n",
       "      <td>SP</td>\n",
       "      <td>SÃO PAULO</td>\n",
       "      <td>MASCULINO</td>\n",
       "      <td>ENSINO MÉDIO COMPLETO</td>\n",
       "      <td>BRANCA</td>\n",
       "      <td>OUTROS</td>\n",
       "    </tr>\n",
       "    <tr>\n",
       "      <th>freq</th>\n",
       "      <td>93692</td>\n",
       "      <td>93692</td>\n",
       "      <td>2030</td>\n",
       "      <td>88281</td>\n",
       "      <td>89547</td>\n",
       "      <td>83825</td>\n",
       "      <td>8649</td>\n",
       "      <td>75216</td>\n",
       "      <td>9186</td>\n",
       "      <td>62255</td>\n",
       "      <td>36949</td>\n",
       "      <td>65081</td>\n",
       "      <td>22161</td>\n",
       "    </tr>\n",
       "  </tbody>\n",
       "</table>\n",
       "</div>"
      ],
      "text/plain": [
       "                      DS_ELEICAO  SG_UF      NM_UE  DS_CARGO  \\\n",
       "count                      93692  93692      93692     93692   \n",
       "unique                         1      1        645         3   \n",
       "top     Eleições Municipais 2020     SP  SÃO PAULO  VEREADOR   \n",
       "freq                       93692  93692       2030     88281   \n",
       "\n",
       "       DS_SITUACAO_CANDIDATURA DS_DETALHE_SITUACAO_CAND SG_PARTIDO  \\\n",
       "count                    93692                    93692      93692   \n",
       "unique                       3                       11         33   \n",
       "top                       APTO                 DEFERIDO       PSDB   \n",
       "freq                     89547                    83825       8649   \n",
       "\n",
       "       SG_UF_NASCIMENTO NM_MUNICIPIO_NASCIMENTO  DS_GENERO  \\\n",
       "count             93692                   93692      93692   \n",
       "unique               28                    3182          2   \n",
       "top                  SP               SÃO PAULO  MASCULINO   \n",
       "freq              75216                    9186      62255   \n",
       "\n",
       "            DS_GRAU_INSTRUCAO DS_COR_RACA DS_OCUPACAO  \n",
       "count                   93692       93692       93692  \n",
       "unique                      8           6         229  \n",
       "top     ENSINO MÉDIO COMPLETO      BRANCA      OUTROS  \n",
       "freq                    36949       65081       22161  "
      ]
     },
     "execution_count": 19,
     "metadata": {},
     "output_type": "execute_result"
    }
   ],
   "source": [
    "df.describe()"
   ]
  },
  {
   "cell_type": "markdown",
   "metadata": {},
   "source": [
    "O partido com mais candidados é o psdb, a maioria em ensino medio completo, são brancos e homens."
   ]
  },
  {
   "cell_type": "code",
   "execution_count": 20,
   "metadata": {
    "scrolled": true
   },
   "outputs": [
    {
     "data": {
      "text/plain": [
       "PSDB             8649\n",
       "DEM              6662\n",
       "MDB              6467\n",
       "PSD              5957\n",
       "PTB              5678\n",
       "REPUBLICANOS     5661\n",
       "PL               5325\n",
       "PODE             5220\n",
       "PSL              4325\n",
       "PP               3901\n",
       "PSB              3576\n",
       "PDT              3195\n",
       "SOLIDARIEDADE    3185\n",
       "PT               3185\n",
       "CIDADANIA        3180\n",
       "PATRIOTA         3134\n",
       "PV               2912\n",
       "AVANTE           2440\n",
       "PSC              2058\n",
       "PRTB             1977\n",
       "PROS             1241\n",
       "PTC              1023\n",
       "PC do B           984\n",
       "PSOL              949\n",
       "REDE              790\n",
       "PMN               635\n",
       "DC                584\n",
       "PMB               539\n",
       "NOVO              129\n",
       "PSTU               59\n",
       "PCO                56\n",
       "UP                 10\n",
       "PCB                 6\n",
       "Name: SG_PARTIDO, dtype: int64"
      ]
     },
     "execution_count": 20,
     "metadata": {},
     "output_type": "execute_result"
    }
   ],
   "source": [
    "df['SG_PARTIDO'].value_counts()"
   ]
  },
  {
   "cell_type": "code",
   "execution_count": 21,
   "metadata": {},
   "outputs": [
    {
     "data": {
      "text/plain": [
       "VEREADOR         88281\n",
       "VICE-PREFEITO     2730\n",
       "PREFEITO          2681\n",
       "Name: DS_CARGO, dtype: int64"
      ]
     },
     "execution_count": 21,
     "metadata": {},
     "output_type": "execute_result"
    }
   ],
   "source": [
    "df['DS_CARGO'].value_counts()"
   ]
  },
  {
   "cell_type": "markdown",
   "metadata": {},
   "source": [
    "### Proporção de generos em geral"
   ]
  },
  {
   "cell_type": "code",
   "execution_count": 22,
   "metadata": {},
   "outputs": [
    {
     "data": {
      "text/plain": [
       "MASCULINO    62255\n",
       "FEMININO     31437\n",
       "Name: DS_GENERO, dtype: int64"
      ]
     },
     "execution_count": 22,
     "metadata": {},
     "output_type": "execute_result"
    }
   ],
   "source": [
    "df['DS_GENERO'].value_counts()"
   ]
  },
  {
   "cell_type": "code",
   "execution_count": 23,
   "metadata": {
    "scrolled": true
   },
   "outputs": [
    {
     "data": {
      "text/plain": [
       "<matplotlib.axes._subplots.AxesSubplot at 0x6498d75b70>"
      ]
     },
     "execution_count": 23,
     "metadata": {},
     "output_type": "execute_result"
    },
    {
     "data": {
      "image/png": "[encoded data removed]",
      "text/plain": [
       "<Figure size 432x288 with 1 Axes>"
      ]
     },
     "metadata": {
      "needs_background": "light"
     },
     "output_type": "display_data"
    }
   ],
   "source": [
    "(df['DS_GENERO'].value_counts('DS_GENERO')*100).plot.bar(title='Candidatos por genero em %, em SP')"
   ]
  },
  {
   "cell_type": "markdown",
   "metadata": {},
   "source": [
    "A proporção entre os generos é similar na amostra"
   ]
  },
  {
   "cell_type": "markdown",
   "metadata": {},
   "source": [
    "### Grau de escolaridade"
   ]
  },
  {
   "cell_type": "code",
   "execution_count": 24,
   "metadata": {},
   "outputs": [
    {
     "data": {
      "text/plain": [
       "ENSINO MÉDIO COMPLETO            36949\n",
       "SUPERIOR COMPLETO                26395\n",
       "ENSINO FUNDAMENTAL COMPLETO      11099\n",
       "ENSINO FUNDAMENTAL INCOMPLETO     8171\n",
       "SUPERIOR INCOMPLETO               4622\n",
       "ENSINO MÉDIO INCOMPLETO           4140\n",
       "LÊ E ESCREVE                      2315\n",
       "ANALFABETO                           1\n",
       "Name: DS_GRAU_INSTRUCAO, dtype: int64"
      ]
     },
     "execution_count": 24,
     "metadata": {},
     "output_type": "execute_result"
    }
   ],
   "source": [
    "df['DS_GRAU_INSTRUCAO'].value_counts()"
   ]
  },
  {
   "cell_type": "code",
   "execution_count": 25,
   "metadata": {},
   "outputs": [
    {
     "data": {
      "text/plain": [
       "<matplotlib.axes._subplots.AxesSubplot at 0x6498dca160>"
      ]
     },
     "execution_count": 25,
     "metadata": {},
     "output_type": "execute_result"
    },
    {
     "data": {
      "image/png": "[encoded data removed]",
      "text/plain": [
       "<Figure size 432x288 with 1 Axes>"
      ]
     },
     "metadata": {
      "needs_background": "light"
     },
     "output_type": "display_data"
    }
   ],
   "source": [
    "(df['DS_GRAU_INSTRUCAO'].value_counts('DS_GRAU_INSTRUCAO', \n",
    "                                          ascending=True) * 100).plot.barh(title='Nivel de escolaridade em % em SP')"
   ]
  },
  {
   "cell_type": "markdown",
   "metadata": {},
   "source": [
    "Na amostra temos 40% dos candidatos com superior completo, seguido de ensino medio completo, para o estado a situação é inversa."
   ]
  },
  {
   "cell_type": "markdown",
   "metadata": {},
   "source": [
    "### Por cor"
   ]
  },
  {
   "cell_type": "code",
   "execution_count": 26,
   "metadata": {},
   "outputs": [
    {
     "data": {
      "text/plain": [
       "BRANCA            65081\n",
       "PARDA             18879\n",
       "PRETA              8697\n",
       "SEM INFORMAÇÃO      629\n",
       "AMARELA             333\n",
       "INDÍGENA             73\n",
       "Name: DS_COR_RACA, dtype: int64"
      ]
     },
     "execution_count": 26,
     "metadata": {},
     "output_type": "execute_result"
    }
   ],
   "source": [
    "df['DS_COR_RACA'].value_counts()"
   ]
  },
  {
   "cell_type": "code",
   "execution_count": 27,
   "metadata": {
    "scrolled": true
   },
   "outputs": [
    {
     "data": {
      "text/plain": [
       "<matplotlib.axes._subplots.AxesSubplot at 0x6498e426d8>"
      ]
     },
     "execution_count": 27,
     "metadata": {},
     "output_type": "execute_result"
    },
    {
     "data": {
      "image/png": "[encoded data removed]",
      "text/plain": [
       "<Figure size 432x288 with 1 Axes>"
      ]
     },
     "metadata": {
      "needs_background": "light"
     },
     "output_type": "display_data"
    }
   ],
   "source": [
    "(df['DS_COR_RACA'].value_counts('DS_COR_RACA', \n",
    "                                          ascending=True) * 100).plot.barh(title='DS_COR_RACA em % em SP')"
   ]
  },
  {
   "cell_type": "markdown",
   "metadata": {},
   "source": [
    "Em relação a etnia, ainda temos uma quantidade muito maior de brancos."
   ]
  },
  {
   "cell_type": "code",
   "execution_count": null,
   "metadata": {},
   "outputs": [],
   "source": []
  }
 ],
 "metadata": {
  "kernelspec": {
   "display_name": "Python 3",
   "language": "python",
   "name": "python3"
  },
  "language_info": {
   "codemirror_mode": {
    "name": "ipython",
    "version": 3
   },
   "file_extension": ".py",
   "mimetype": "text/x-python",
   "name": "python",
   "nbconvert_exporter": "python",
   "pygments_lexer": "ipython3",
   "version": "3.7.3"
  }
 },
 "nbformat": 4,
 "nbformat_minor": 2
}
